{
 "cells": [
  {
   "cell_type": "code",
   "execution_count": 3,
   "metadata": {},
   "outputs": [],
   "source": [
    "from betting_functions import get_url_json\n",
    "import tls_client\n",
    "import random\n",
    "from bs4 import BeautifulSoup\n",
    "import pandas as pd\n",
    "import time"
   ]
  },
  {
   "cell_type": "code",
   "execution_count": 4,
   "metadata": {},
   "outputs": [],
   "source": [
    "acronyms = pd.read_csv('acronyms',index_col=0).Acr.values"
   ]
  },
  {
   "cell_type": "code",
   "execution_count": 9,
   "metadata": {},
   "outputs": [],
   "source": [
    "soup = get_url_soup(f'https://www.basketball-reference.com/leagues/NBA_2024_per_game.html')\n",
    "\n",
    "# Find all <td> elements with the 'data-append-csv' attribute\n",
    "td_elements = soup.find_all('td', {'data-append-csv': True})\n",
    "\n",
    "# Create empty lists to store the extracted data\n",
    "data_append_csv_list = []\n",
    "player_name_list = []\n",
    "\n",
    "# Loop through the <td> elements\n",
    "for td_element in td_elements:\n",
    "    data_append_csv = td_element['data-append-csv']\n",
    "    player_name = td_element.find('a').text\n",
    "    data_append_csv_list.append(data_append_csv)\n",
    "    player_name_list.append(player_name)\n",
    "\n",
    "# Print the extracted data\n",
    "player_codes = []\n",
    "for data, name in zip(data_append_csv_list, player_name_list):\n",
    "    player_codes.append([name,data])"
   ]
  },
  {
   "cell_type": "code",
   "execution_count": 10,
   "metadata": {},
   "outputs": [
    {
     "data": {
      "text/html": [
       "<div>\n",
       "<style scoped>\n",
       "    .dataframe tbody tr th:only-of-type {\n",
       "        vertical-align: middle;\n",
       "    }\n",
       "\n",
       "    .dataframe tbody tr th {\n",
       "        vertical-align: top;\n",
       "    }\n",
       "\n",
       "    .dataframe thead th {\n",
       "        text-align: right;\n",
       "    }\n",
       "</style>\n",
       "<table border=\"1\" class=\"dataframe\">\n",
       "  <thead>\n",
       "    <tr style=\"text-align: right;\">\n",
       "      <th></th>\n",
       "      <th>name</th>\n",
       "      <th>code</th>\n",
       "    </tr>\n",
       "  </thead>\n",
       "  <tbody>\n",
       "    <tr>\n",
       "      <th>0</th>\n",
       "      <td>Precious Achiuwa</td>\n",
       "      <td>achiupr01</td>\n",
       "    </tr>\n",
       "    <tr>\n",
       "      <th>1</th>\n",
       "      <td>Bam Adebayo</td>\n",
       "      <td>adebaba01</td>\n",
       "    </tr>\n",
       "    <tr>\n",
       "      <th>2</th>\n",
       "      <td>Ochai Agbaji</td>\n",
       "      <td>agbajoc01</td>\n",
       "    </tr>\n",
       "    <tr>\n",
       "      <th>3</th>\n",
       "      <td>Nickeil Alexander-Walker</td>\n",
       "      <td>alexani01</td>\n",
       "    </tr>\n",
       "    <tr>\n",
       "      <th>4</th>\n",
       "      <td>Grayson Allen</td>\n",
       "      <td>allengr01</td>\n",
       "    </tr>\n",
       "    <tr>\n",
       "      <th>...</th>\n",
       "      <td>...</td>\n",
       "      <td>...</td>\n",
       "    </tr>\n",
       "    <tr>\n",
       "      <th>331</th>\n",
       "      <td>Christian Wood</td>\n",
       "      <td>woodch01</td>\n",
       "    </tr>\n",
       "    <tr>\n",
       "      <th>332</th>\n",
       "      <td>Delon Wright</td>\n",
       "      <td>wrighde01</td>\n",
       "    </tr>\n",
       "    <tr>\n",
       "      <th>333</th>\n",
       "      <td>Trae Young</td>\n",
       "      <td>youngtr01</td>\n",
       "    </tr>\n",
       "    <tr>\n",
       "      <th>334</th>\n",
       "      <td>Omer Yurtseven</td>\n",
       "      <td>yurtsom01</td>\n",
       "    </tr>\n",
       "    <tr>\n",
       "      <th>335</th>\n",
       "      <td>Ivica Zubac</td>\n",
       "      <td>zubaciv01</td>\n",
       "    </tr>\n",
       "  </tbody>\n",
       "</table>\n",
       "<p>336 rows × 2 columns</p>\n",
       "</div>"
      ],
      "text/plain": [
       "                         name       code\n",
       "0            Precious Achiuwa  achiupr01\n",
       "1                 Bam Adebayo  adebaba01\n",
       "2                Ochai Agbaji  agbajoc01\n",
       "3    Nickeil Alexander-Walker  alexani01\n",
       "4               Grayson Allen  allengr01\n",
       "..                        ...        ...\n",
       "331            Christian Wood   woodch01\n",
       "332              Delon Wright  wrighde01\n",
       "333                Trae Young  youngtr01\n",
       "334            Omer Yurtseven  yurtsom01\n",
       "335               Ivica Zubac  zubaciv01\n",
       "\n",
       "[336 rows x 2 columns]"
      ]
     },
     "execution_count": 10,
     "metadata": {},
     "output_type": "execute_result"
    }
   ],
   "source": [
    "pd.DataFrame(player_codes,columns=['name','code']).to_csv()"
   ]
  },
  {
   "cell_type": "code",
   "execution_count": null,
   "metadata": {},
   "outputs": [],
   "source": []
  }
 ],
 "metadata": {
  "kernelspec": {
   "display_name": "base",
   "language": "python",
   "name": "python3"
  },
  "language_info": {
   "codemirror_mode": {
    "name": "ipython",
    "version": 3
   },
   "file_extension": ".py",
   "mimetype": "text/x-python",
   "name": "python",
   "nbconvert_exporter": "python",
   "pygments_lexer": "ipython3",
   "version": "3.11.5"
  }
 },
 "nbformat": 4,
 "nbformat_minor": 2
}
