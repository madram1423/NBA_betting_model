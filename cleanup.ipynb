{
 "cells": [
  {
   "cell_type": "code",
   "execution_count": 2,
   "metadata": {},
   "outputs": [],
   "source": [
    "import pandas as pd\n",
    "import numpy as np\n",
    "import matplotlib.pyplot as plt\n",
    "import ipywidgets as widgets\n",
    "from scipy.stats import poisson\n",
    "import datetime as dt\n",
    "from unidecode import unidecode\n",
    "from glob import glob\n",
    "from game_log import load_current_line\n",
    "plt.rcParams['figure.figsize'] = [13, 7]\n",
    "pd.set_option(\"display.precision\", 3)"
   ]
  },
  {
   "cell_type": "code",
   "execution_count": 3,
   "metadata": {},
   "outputs": [],
   "source": [
    "syntax = {\n",
    "    \"Points\": \"PTS\",\n",
    "    \"Rebs\": \"TRB\",\n",
    "    \"Asts\": \"AST\",\n",
    "    \"Rebounds\": \"TRB\",\n",
    "    \"3-PT Made\": \"3P\",\n",
    "    \"Assists\": \"AST\",\n",
    "    \"Turnovers\": \"TOV\",\n",
    "    \"Blks\": \"BLK\",\n",
    "    \"Pts\": \"PTS\",\n",
    "    \"Pts+Asts\": \"PTS+AST\",\n",
    "    \"Pts+Rebs+Asts\": \"PTS+TRB+AST\",\n",
    "    \"Pts+Rebs\": \"PTS+TRB\",\n",
    "    \"Rebs+Asts\": \"TRB+AST\",\n",
    "    \"Blks+Stls\": \"BLK+STL\",\n",
    "    \"Stls\": \"STL\",\n",
    "    \"Free Throws Made\": \"FT\",\n",
    "    \"Blocked Shots\": \"BLK\",\n",
    "    \"Steals\": \"STL\",\n",
    "    \"Personal Fouls\": \"PF\",\n",
    "    \"FG Attempted\": \"FGA\",\n",
    "    \"Offensive Rebounds\": \"ORB\",\n",
    "    \"Defensive Rebounds\": \"DRB\",\n",
    "    \"3-PT Attempted\": \"3PA\",\n",
    "    \"FG Made\": \"FG\"\n",
    "}"
   ]
  },
  {
   "cell_type": "code",
   "execution_count": 12,
   "metadata": {},
   "outputs": [],
   "source": [
    "un_2_pp = {\n",
    "    'Pass And Rush Yards': 'Pass+Rush Yds',\n",
    "    'Total Kicking Points': 'Kicking Points',\n",
    "    'Tackles and Assists': 'Tackles+Ast',\n",
    "    'Field Goals Made': 'FG',\n",
    "    'Interceptions Thrown': 'INT',\n",
    "}"
   ]
  },
  {
   "cell_type": "code",
   "execution_count": 16,
   "metadata": {},
   "outputs": [
    {
     "name": "stdout",
     "output_type": "stream",
     "text": [
      "Lines/unabated\\unabated_2023_10_10.csv\n",
      "Lines/unabated\\unabated_2023_10_11.csv\n",
      "Lines/unabated\\unabated_2023_10_16.csv\n",
      "Lines/unabated\\unabated_2023_10_20.csv\n",
      "Lines/unabated\\unabated_2023_10_23.csv\n",
      "Lines/unabated\\unabated_2023_10_24.csv\n",
      "Lines/unabated\\unabated_2023_10_26.csv\n",
      "Lines/unabated\\unabated_2023_10_27.csv\n",
      "Lines/unabated\\unabated_2023_10_3.csv\n",
      "Lines/unabated\\unabated_2023_10_30.csv\n",
      "Lines/unabated\\unabated_2023_10_31.csv\n",
      "Lines/unabated\\unabated_2023_10_4.csv\n",
      "Lines/unabated\\unabated_2023_10_5.csv\n",
      "Lines/unabated\\unabated_2023_10_6.csv\n",
      "Lines/unabated\\unabated_2023_11_1.csv\n",
      "Lines/unabated\\unabated_2023_11_10.csv\n",
      "Lines/unabated\\unabated_2023_11_13.csv\n",
      "Lines/unabated\\unabated_2023_11_14.csv\n",
      "Lines/unabated\\unabated_2023_11_15.csv\n",
      "Lines/unabated\\unabated_2023_11_16.csv\n",
      "Lines/unabated\\unabated_2023_11_17.csv\n",
      "Lines/unabated\\unabated_2023_11_2.csv\n",
      "Lines/unabated\\unabated_2023_11_27.csv\n",
      "Lines/unabated\\unabated_2023_11_28.csv\n",
      "Lines/unabated\\unabated_2023_11_29.csv\n",
      "Lines/unabated\\unabated_2023_11_3.csv\n",
      "Lines/unabated\\unabated_2023_11_30.csv\n",
      "Lines/unabated\\unabated_2023_11_6.csv\n",
      "Lines/unabated\\unabated_2023_11_7.csv\n",
      "Lines/unabated\\unabated_2023_11_8.csv\n",
      "Lines/unabated\\unabated_2023_11_9.csv\n",
      "Lines/unabated\\unabated_2023_12_1.csv\n",
      "Lines/unabated\\unabated_2023_12_2.csv\n",
      "Lines/unabated\\unabated_2023_12_3.csv\n",
      "Lines/unabated\\unabated_2023_12_4.csv\n",
      "Lines/unabated\\unabated_2023_12_5.csv\n",
      "Lines/unabated\\unabated_2023_12_6.csv\n",
      "Lines/unabated\\unabated_2023_12_7.csv\n",
      "Lines/unabated\\unabated_2023_12_8.csv\n",
      "Lines/unabated\\unabated_raw_2023_10_10.csv\n",
      "Lines/unabated\\unabated_raw_2023_10_11.csv\n",
      "Lines/unabated\\unabated_raw_2023_10_16.csv\n",
      "Lines/unabated\\unabated_raw_2023_10_20.csv\n",
      "Lines/unabated\\unabated_raw_2023_10_23.csv\n",
      "Lines/unabated\\unabated_raw_2023_10_24.csv\n",
      "Lines/unabated\\unabated_raw_2023_10_26.csv\n",
      "Lines/unabated\\unabated_raw_2023_10_27.csv\n",
      "Lines/unabated\\unabated_raw_2023_10_30.csv\n",
      "Lines/unabated\\unabated_raw_2023_10_31.csv\n",
      "Lines/unabated\\unabated_raw_2023_10_5.csv\n",
      "Lines/unabated\\unabated_raw_2023_10_6.csv\n",
      "Lines/unabated\\unabated_raw_2023_11_1.csv\n",
      "Lines/unabated\\unabated_raw_2023_11_10.csv\n",
      "Lines/unabated\\unabated_raw_2023_11_13.csv\n",
      "Lines/unabated\\unabated_raw_2023_11_14.csv\n",
      "Lines/unabated\\unabated_raw_2023_11_15.csv\n",
      "Lines/unabated\\unabated_raw_2023_11_16.csv\n",
      "Lines/unabated\\unabated_raw_2023_11_17.csv\n",
      "Lines/unabated\\unabated_raw_2023_11_2.csv\n",
      "Lines/unabated\\unabated_raw_2023_11_27.csv\n",
      "Lines/unabated\\unabated_raw_2023_11_28.csv\n",
      "Lines/unabated\\unabated_raw_2023_11_29.csv\n",
      "Lines/unabated\\unabated_raw_2023_11_3.csv\n",
      "Lines/unabated\\unabated_raw_2023_11_30.csv\n",
      "Lines/unabated\\unabated_raw_2023_11_6.csv\n",
      "Lines/unabated\\unabated_raw_2023_11_7.csv\n",
      "Lines/unabated\\unabated_raw_2023_11_8.csv\n",
      "Lines/unabated\\unabated_raw_2023_11_9.csv\n",
      "Lines/unabated\\unabated_raw_2023_12_1.csv\n",
      "Lines/unabated\\unabated_raw_2023_12_2.csv\n",
      "Lines/unabated\\unabated_raw_2023_12_3.csv\n",
      "Lines/unabated\\unabated_raw_2023_12_4.csv\n",
      "Lines/unabated\\unabated_raw_2023_12_5.csv\n",
      "Lines/unabated\\unabated_raw_2023_12_6.csv\n",
      "Lines/unabated\\unabated_raw_2023_12_7.csv\n",
      "Lines/unabated\\unabated_raw_2023_12_8.csv\n"
     ]
    }
   ],
   "source": [
    "unabated_paths = glob('Lines/unabated/*')\n",
    "unabated = pd.DataFrame()\n",
    "for file in unabated_paths:\n",
    "    df = pd.read_csv(file,index_col=0)\n",
    "    print(file)\n",
    "    #print(df.stat.unique())\n",
    "    df['stat'] = df['stat'].apply(lambda x: un_2_pp.get(x,x))\n",
    "    df.to_csv(file)"
   ]
  },
  {
   "cell_type": "code",
   "execution_count": 179,
   "metadata": {},
   "outputs": [],
   "source": [
    "pp_paths = glob('Lines/old_nba/*') + glob('Lines/pp/*')\n",
    "pp = pd.DataFrame()\n",
    "for file in pp_paths:\n",
    "    df = pd.read_csv(file,index_col=0)\n",
    "    df['stat'] = df['stat'].apply(lambda x: syntax.get(x,x))\n",
    "    #df.to_csv(file)"
   ]
  },
  {
   "cell_type": "code",
   "execution_count": 168,
   "metadata": {},
   "outputs": [
    {
     "name": "stdout",
     "output_type": "stream",
     "text": [
      "2023-10-12 00:00:00-05:00\n",
      "2023-10-24 00:00:00-05:00\n",
      "2023-10-24 00:00:00-05:00\n",
      "2023-10-24 00:00:00-05:00\n"
     ]
    }
   ],
   "source": [
    "for file in old_pp_paths:\n",
    "    df = pd.read_csv(file,index_col=0)\n",
    "\n",
    "    x = pd.to_datetime(df['date'].iloc[1])\n",
    "    print(x)"
   ]
  },
  {
   "cell_type": "code",
   "execution_count": 1,
   "metadata": {},
   "outputs": [
    {
     "ename": "NameError",
     "evalue": "name 'syntax' is not defined",
     "output_type": "error",
     "traceback": [
      "\u001b[1;31m---------------------------------------------------------------------------\u001b[0m",
      "\u001b[1;31mNameError\u001b[0m                                 Traceback (most recent call last)",
      "Cell \u001b[1;32mIn[1], line 2\u001b[0m\n\u001b[0;32m      1\u001b[0m x \u001b[38;5;241m=\u001b[39m \u001b[38;5;124m'\u001b[39m\u001b[38;5;124mPoints\u001b[39m\u001b[38;5;124m'\u001b[39m\n\u001b[1;32m----> 2\u001b[0m \u001b[43msyntax\u001b[49m\u001b[38;5;241m.\u001b[39mget(x,x)\n",
      "\u001b[1;31mNameError\u001b[0m: name 'syntax' is not defined"
     ]
    }
   ],
   "source": [
    "x = 'Points'\n",
    "syntax.get(x,x)"
   ]
  },
  {
   "cell_type": "code",
   "execution_count": null,
   "metadata": {},
   "outputs": [],
   "source": []
  }
 ],
 "metadata": {
  "kernelspec": {
   "display_name": "base",
   "language": "python",
   "name": "python3"
  },
  "language_info": {
   "codemirror_mode": {
    "name": "ipython",
    "version": 3
   },
   "file_extension": ".py",
   "mimetype": "text/x-python",
   "name": "python",
   "nbconvert_exporter": "python",
   "pygments_lexer": "ipython3",
   "version": "3.11.5"
  }
 },
 "nbformat": 4,
 "nbformat_minor": 2
}
