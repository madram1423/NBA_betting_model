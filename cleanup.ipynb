{
 "cells": [
  {
   "cell_type": "code",
   "execution_count": 1,
   "metadata": {},
   "outputs": [],
   "source": [
    "import pandas as pd\n",
    "import numpy as np\n",
    "import matplotlib.pyplot as plt\n",
    "import ipywidgets as widgets\n",
    "from scipy.stats import poisson\n",
    "import datetime as dt\n",
    "from unidecode import unidecode\n",
    "from glob import glob\n",
    "from game_log import load_current_line\n",
    "plt.rcParams['figure.figsize'] = [13, 7]\n",
    "pd.set_option(\"display.precision\", 3)"
   ]
  },
  {
   "cell_type": "code",
   "execution_count": 167,
   "metadata": {},
   "outputs": [],
   "source": [
    "syntax = {\n",
    "    \"Points\": \"PTS\",\n",
    "    \"Rebs\": \"TRB\",\n",
    "    \"Asts\": \"AST\",\n",
    "    \"Rebounds\": \"TRB\",\n",
    "    \"3-PT Made\": \"3P\",\n",
    "    \"Assists\": \"AST\",\n",
    "    \"Turnovers\": \"TOV\",\n",
    "    \"Blks\": \"BLK\",\n",
    "    \"Pts\": \"PTS\",\n",
    "    \"Pts+Asts\": \"PTS+AST\",\n",
    "    \"Pts+Rebs+Asts\": \"PTS+TRB+AST\",\n",
    "    \"Pts+Rebs\": \"PTS+TRB\",\n",
    "    \"Rebs+Asts\": \"TRB+AST\",\n",
    "    \"Blks+Stls\": \"BLK+STL\",\n",
    "    \"Stls\": \"STL\",\n",
    "    \"Free Throws Made\": \"FT\",\n",
    "    \"Blocked Shots\": \"BLK\",\n",
    "    \"Steals\": \"STL\",\n",
    "    \"Personal Fouls\": \"PF\",\n",
    "    \"FG Attempted\": \"FGA\",\n",
    "    \"Offensive Rebounds\": \"ORB\",\n",
    "    \"Defensive Rebounds\": \"DRB\",\n",
    "    \"3-PT Attempted\": \"3PA\",\n",
    "    \"FG Made\": \"FG\"\n",
    "}"
   ]
  },
  {
   "cell_type": "code",
   "execution_count": 179,
   "metadata": {},
   "outputs": [],
   "source": [
    "pp_paths = glob('Lines/old_nba/*') + glob('Lines/pp/*')\n",
    "pp = pd.DataFrame()\n",
    "for file in pp_paths:\n",
    "    df = pd.read_csv(file,index_col=0)\n",
    "    df['stat'] = df['stat'].apply(lambda x: syntax.get(x,x))\n",
    "    #df.to_csv(file)"
   ]
  },
  {
   "cell_type": "code",
   "execution_count": 168,
   "metadata": {},
   "outputs": [
    {
     "name": "stdout",
     "output_type": "stream",
     "text": [
      "2023-10-12 00:00:00-05:00\n",
      "2023-10-24 00:00:00-05:00\n",
      "2023-10-24 00:00:00-05:00\n",
      "2023-10-24 00:00:00-05:00\n"
     ]
    }
   ],
   "source": [
    "for file in old_pp_paths:\n",
    "    df = pd.read_csv(file,index_col=0)\n",
    "\n",
    "    x = pd.to_datetime(df['date'].iloc[1])\n",
    "    print(x)"
   ]
  },
  {
   "cell_type": "code",
   "execution_count": 177,
   "metadata": {},
   "outputs": [
    {
     "data": {
      "text/plain": [
       "'Poinfts'"
      ]
     },
     "execution_count": 177,
     "metadata": {},
     "output_type": "execute_result"
    }
   ],
   "source": [
    "x = 'Poinfts'\n",
    "syntax.get(x,x)"
   ]
  },
  {
   "cell_type": "code",
   "execution_count": null,
   "metadata": {},
   "outputs": [],
   "source": []
  }
 ],
 "metadata": {
  "kernelspec": {
   "display_name": "base",
   "language": "python",
   "name": "python3"
  },
  "language_info": {
   "codemirror_mode": {
    "name": "ipython",
    "version": 3
   },
   "file_extension": ".py",
   "mimetype": "text/x-python",
   "name": "python",
   "nbconvert_exporter": "python",
   "pygments_lexer": "ipython3",
   "version": "3.11.5"
  }
 },
 "nbformat": 4,
 "nbformat_minor": 2
}
