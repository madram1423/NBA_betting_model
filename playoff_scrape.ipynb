{
 "cells": [
  {
   "cell_type": "code",
   "execution_count": 342,
   "id": "0edc7104",
   "metadata": {},
   "outputs": [],
   "source": [
    "import torch\n",
    "import torch.nn.functional as F\n",
    "import numpy as np\n",
    "import pandas as pd\n",
    "import time\n",
    "import re\n",
    "import random\n",
    "from unidecode import unidecode\n",
    "device = 'cuda' if torch.cuda.is_available() else 'cpu'"
   ]
  },
  {
   "cell_type": "code",
   "execution_count": 343,
   "id": "efd916d5",
   "metadata": {},
   "outputs": [],
   "source": [
    "from urllib.request import urlopen\n",
    "from bs4 import BeautifulSoup\n",
    "import requests"
   ]
  },
  {
   "cell_type": "code",
   "execution_count": 344,
   "id": "347104fa",
   "metadata": {},
   "outputs": [],
   "source": [
    "def GET_UA():\n",
    "    uastrings = [\"Mozilla/5.0 (Windows NT 6.1; WOW64) AppleWebKit/537.36 (KHTML, like Gecko) Chrome/38.0.2125.111 Safari/537.36\",\\\n",
    "                \"Mozilla/5.0 (Windows NT 6.1; WOW64) AppleWebKit/537.36 (KHTML, like Gecko) Chrome/28.0.1500.72 Safari/537.36\",\\\n",
    "                \"Mozilla/5.0 (Macintosh; Intel Mac OS X 10_10) AppleWebKit/600.1.25 (KHTML, like Gecko) Version/8.0 Safari/600.1.25\",\\\n",
    "                \"Mozilla/5.0 (Windows NT 6.1; WOW64; rv:33.0) Gecko/20100101 Firefox/33.0\",\\\n",
    "                \"Mozilla/5.0 (Windows NT 6.3; WOW64) AppleWebKit/537.36 (KHTML, like Gecko) Chrome/38.0.2125.111 Safari/537.36\",\\\n",
    "                \"Mozilla/5.0 (Macintosh; Intel Mac OS X 10_10_0) AppleWebKit/537.36 (KHTML, like Gecko) Chrome/38.0.2125.111 Safari/537.36\",\\\n",
    "                \"Mozilla/5.0 (Macintosh; Intel Mac OS X 10_9_5) AppleWebKit/600.1.17 (KHTML, like Gecko) Version/7.1 Safari/537.85.10\",\\\n",
    "                \"Mozilla/5.0 (Windows NT 6.1; WOW64; Trident/7.0; rv:11.0) like Gecko\",\\\n",
    "                \"Mozilla/5.0 (Windows NT 6.3; WOW64; rv:33.0) Gecko/20100101 Firefox/33.0\",\\\n",
    "                \"Mozilla/5.0 (Windows NT 6.1; WOW64) AppleWebKit/537.36 (KHTML, like Gecko) Chrome/38.0.2125.104 Safari/537.36\"\\\n",
    "                ]\n",
    " \n",
    "    return random.choice(uastrings)"
   ]
  },
  {
   "cell_type": "code",
   "execution_count": 345,
   "id": "ec602b6a",
   "metadata": {},
   "outputs": [],
   "source": [
    "def parse_url(url):\n",
    " \n",
    "    headers = {'User-Agent': GET_UA()}\n",
    "    content = None\n",
    " \n",
    "    try:\n",
    "        response = requests.get(url, headers=headers)\n",
    "        ct = response.headers['Content-Type'].lower().strip()\n",
    " \n",
    "        if 'text/html' in ct:\n",
    "            content = response.content\n",
    "            soup = BeautifulSoup(content)\n",
    "        else:\n",
    "            content = response.content\n",
    "            soup = None\n",
    " \n",
    "    except Exception as e:\n",
    "        print('Error:', str(e))\n",
    " \n",
    "    return content, soup, ct"
   ]
  },
  {
   "cell_type": "code",
   "execution_count": 346,
   "id": "2063754d",
   "metadata": {
    "scrolled": true
   },
   "outputs": [
    {
     "name": "stdout",
     "output_type": "stream",
     "text": [
      "['Devin_Booker', 'Anthony_Edwards', 'Jimmy_Butler', 'Trae_Young', 'Kevin_Durant', 'Jamal_Murray', 'Jayson_Tatum', 'Nikola_Jokić', 'Jaylen_Brown', 'Stephen_Curry']\n",
      "212\n"
     ]
    }
   ],
   "source": [
    "players = pd.read_csv('playoff_players2023.txt')\n",
    "player_id = players['Player-additional'].values.tolist()\n",
    "player_name = players['Player'].values.tolist()\n",
    "league_num =len(player_id)\n",
    "i = 0\n",
    "for name in player_name:\n",
    "    player_name[i] = name.replace(\" \", \"_\")\n",
    "    i = i+1\n",
    "print(player_name[0:10])\n",
    "print(len(player_name))"
   ]
  },
  {
   "cell_type": "code",
   "execution_count": 347,
   "id": "99df9821",
   "metadata": {},
   "outputs": [
    {
     "data": {
      "text/html": [
       "<div>\n",
       "<style scoped>\n",
       "    .dataframe tbody tr th:only-of-type {\n",
       "        vertical-align: middle;\n",
       "    }\n",
       "\n",
       "    .dataframe tbody tr th {\n",
       "        vertical-align: top;\n",
       "    }\n",
       "\n",
       "    .dataframe thead th {\n",
       "        text-align: right;\n",
       "    }\n",
       "</style>\n",
       "<table border=\"1\" class=\"dataframe\">\n",
       "  <thead>\n",
       "    <tr style=\"text-align: right;\">\n",
       "      <th></th>\n",
       "      <th>Rk</th>\n",
       "      <th>Player</th>\n",
       "      <th>Pos</th>\n",
       "      <th>Age</th>\n",
       "      <th>Tm</th>\n",
       "      <th>G</th>\n",
       "      <th>GS</th>\n",
       "      <th>MP</th>\n",
       "      <th>FG</th>\n",
       "      <th>FGA</th>\n",
       "      <th>...</th>\n",
       "      <th>ORB</th>\n",
       "      <th>DRB</th>\n",
       "      <th>TRB</th>\n",
       "      <th>AST</th>\n",
       "      <th>STL</th>\n",
       "      <th>BLK</th>\n",
       "      <th>TOV</th>\n",
       "      <th>PF</th>\n",
       "      <th>PTS▼</th>\n",
       "      <th>Player-additional</th>\n",
       "    </tr>\n",
       "  </thead>\n",
       "  <tbody>\n",
       "    <tr>\n",
       "      <th>0</th>\n",
       "      <td>1</td>\n",
       "      <td>Devin Booker</td>\n",
       "      <td>SG</td>\n",
       "      <td>26</td>\n",
       "      <td>PHO</td>\n",
       "      <td>5</td>\n",
       "      <td>5</td>\n",
       "      <td>216</td>\n",
       "      <td>71</td>\n",
       "      <td>118</td>\n",
       "      <td>...</td>\n",
       "      <td>7</td>\n",
       "      <td>18</td>\n",
       "      <td>25</td>\n",
       "      <td>32</td>\n",
       "      <td>13</td>\n",
       "      <td>5</td>\n",
       "      <td>15</td>\n",
       "      <td>14</td>\n",
       "      <td>186</td>\n",
       "      <td>bookede01</td>\n",
       "    </tr>\n",
       "    <tr>\n",
       "      <th>1</th>\n",
       "      <td>2</td>\n",
       "      <td>Anthony Edwards</td>\n",
       "      <td>SG</td>\n",
       "      <td>21</td>\n",
       "      <td>MIN</td>\n",
       "      <td>5</td>\n",
       "      <td>5</td>\n",
       "      <td>199</td>\n",
       "      <td>55</td>\n",
       "      <td>114</td>\n",
       "      <td>...</td>\n",
       "      <td>3</td>\n",
       "      <td>22</td>\n",
       "      <td>25</td>\n",
       "      <td>26</td>\n",
       "      <td>9</td>\n",
       "      <td>10</td>\n",
       "      <td>8</td>\n",
       "      <td>13</td>\n",
       "      <td>158</td>\n",
       "      <td>edwaran01</td>\n",
       "    </tr>\n",
       "    <tr>\n",
       "      <th>2</th>\n",
       "      <td>3</td>\n",
       "      <td>Jimmy Butler</td>\n",
       "      <td>SF</td>\n",
       "      <td>33</td>\n",
       "      <td>MIA</td>\n",
       "      <td>4</td>\n",
       "      <td>4</td>\n",
       "      <td>140</td>\n",
       "      <td>54</td>\n",
       "      <td>86</td>\n",
       "      <td>...</td>\n",
       "      <td>8</td>\n",
       "      <td>14</td>\n",
       "      <td>22</td>\n",
       "      <td>20</td>\n",
       "      <td>7</td>\n",
       "      <td>1</td>\n",
       "      <td>7</td>\n",
       "      <td>6</td>\n",
       "      <td>146</td>\n",
       "      <td>butleji01</td>\n",
       "    </tr>\n",
       "    <tr>\n",
       "      <th>3</th>\n",
       "      <td>4</td>\n",
       "      <td>Trae Young</td>\n",
       "      <td>PG</td>\n",
       "      <td>24</td>\n",
       "      <td>ATL</td>\n",
       "      <td>5</td>\n",
       "      <td>5</td>\n",
       "      <td>190</td>\n",
       "      <td>51</td>\n",
       "      <td>121</td>\n",
       "      <td>...</td>\n",
       "      <td>5</td>\n",
       "      <td>14</td>\n",
       "      <td>19</td>\n",
       "      <td>51</td>\n",
       "      <td>9</td>\n",
       "      <td>2</td>\n",
       "      <td>19</td>\n",
       "      <td>8</td>\n",
       "      <td>145</td>\n",
       "      <td>youngtr01</td>\n",
       "    </tr>\n",
       "    <tr>\n",
       "      <th>4</th>\n",
       "      <td>5</td>\n",
       "      <td>Kevin Durant</td>\n",
       "      <td>SF</td>\n",
       "      <td>34</td>\n",
       "      <td>PHO</td>\n",
       "      <td>5</td>\n",
       "      <td>5</td>\n",
       "      <td>219</td>\n",
       "      <td>44</td>\n",
       "      <td>85</td>\n",
       "      <td>...</td>\n",
       "      <td>3</td>\n",
       "      <td>35</td>\n",
       "      <td>38</td>\n",
       "      <td>31</td>\n",
       "      <td>5</td>\n",
       "      <td>5</td>\n",
       "      <td>16</td>\n",
       "      <td>12</td>\n",
       "      <td>142</td>\n",
       "      <td>duranke01</td>\n",
       "    </tr>\n",
       "    <tr>\n",
       "      <th>...</th>\n",
       "      <td>...</td>\n",
       "      <td>...</td>\n",
       "      <td>...</td>\n",
       "      <td>...</td>\n",
       "      <td>...</td>\n",
       "      <td>...</td>\n",
       "      <td>...</td>\n",
       "      <td>...</td>\n",
       "      <td>...</td>\n",
       "      <td>...</td>\n",
       "      <td>...</td>\n",
       "      <td>...</td>\n",
       "      <td>...</td>\n",
       "      <td>...</td>\n",
       "      <td>...</td>\n",
       "      <td>...</td>\n",
       "      <td>...</td>\n",
       "      <td>...</td>\n",
       "      <td>...</td>\n",
       "      <td>...</td>\n",
       "      <td>...</td>\n",
       "    </tr>\n",
       "    <tr>\n",
       "      <th>207</th>\n",
       "      <td>208</td>\n",
       "      <td>Lonnie Walker IV</td>\n",
       "      <td>SG</td>\n",
       "      <td>24</td>\n",
       "      <td>LAL</td>\n",
       "      <td>2</td>\n",
       "      <td>0</td>\n",
       "      <td>1</td>\n",
       "      <td>0</td>\n",
       "      <td>0</td>\n",
       "      <td>...</td>\n",
       "      <td>0</td>\n",
       "      <td>0</td>\n",
       "      <td>0</td>\n",
       "      <td>0</td>\n",
       "      <td>0</td>\n",
       "      <td>0</td>\n",
       "      <td>0</td>\n",
       "      <td>0</td>\n",
       "      <td>0</td>\n",
       "      <td>walkelo01</td>\n",
       "    </tr>\n",
       "    <tr>\n",
       "      <th>208</th>\n",
       "      <td>209</td>\n",
       "      <td>T.J. Warren</td>\n",
       "      <td>SF</td>\n",
       "      <td>29</td>\n",
       "      <td>PHO</td>\n",
       "      <td>2</td>\n",
       "      <td>0</td>\n",
       "      <td>6</td>\n",
       "      <td>0</td>\n",
       "      <td>1</td>\n",
       "      <td>...</td>\n",
       "      <td>0</td>\n",
       "      <td>0</td>\n",
       "      <td>0</td>\n",
       "      <td>0</td>\n",
       "      <td>0</td>\n",
       "      <td>0</td>\n",
       "      <td>0</td>\n",
       "      <td>2</td>\n",
       "      <td>0</td>\n",
       "      <td>warretj01</td>\n",
       "    </tr>\n",
       "    <tr>\n",
       "      <th>209</th>\n",
       "      <td>210</td>\n",
       "      <td>Peyton Watson</td>\n",
       "      <td>SG</td>\n",
       "      <td>20</td>\n",
       "      <td>DEN</td>\n",
       "      <td>1</td>\n",
       "      <td>0</td>\n",
       "      <td>4</td>\n",
       "      <td>0</td>\n",
       "      <td>1</td>\n",
       "      <td>...</td>\n",
       "      <td>1</td>\n",
       "      <td>0</td>\n",
       "      <td>1</td>\n",
       "      <td>1</td>\n",
       "      <td>0</td>\n",
       "      <td>0</td>\n",
       "      <td>0</td>\n",
       "      <td>0</td>\n",
       "      <td>0</td>\n",
       "      <td>watsope01</td>\n",
       "    </tr>\n",
       "    <tr>\n",
       "      <th>210</th>\n",
       "      <td>211</td>\n",
       "      <td>Ziaire Williams</td>\n",
       "      <td>SF</td>\n",
       "      <td>21</td>\n",
       "      <td>MEM</td>\n",
       "      <td>2</td>\n",
       "      <td>0</td>\n",
       "      <td>1</td>\n",
       "      <td>0</td>\n",
       "      <td>0</td>\n",
       "      <td>...</td>\n",
       "      <td>0</td>\n",
       "      <td>0</td>\n",
       "      <td>0</td>\n",
       "      <td>0</td>\n",
       "      <td>0</td>\n",
       "      <td>0</td>\n",
       "      <td>1</td>\n",
       "      <td>0</td>\n",
       "      <td>0</td>\n",
       "      <td>willizi02</td>\n",
       "    </tr>\n",
       "    <tr>\n",
       "      <th>211</th>\n",
       "      <td>212</td>\n",
       "      <td>Omer Yurtseven</td>\n",
       "      <td>C</td>\n",
       "      <td>24</td>\n",
       "      <td>MIA</td>\n",
       "      <td>1</td>\n",
       "      <td>0</td>\n",
       "      <td>3</td>\n",
       "      <td>0</td>\n",
       "      <td>0</td>\n",
       "      <td>...</td>\n",
       "      <td>0</td>\n",
       "      <td>0</td>\n",
       "      <td>0</td>\n",
       "      <td>1</td>\n",
       "      <td>0</td>\n",
       "      <td>0</td>\n",
       "      <td>0</td>\n",
       "      <td>0</td>\n",
       "      <td>0</td>\n",
       "      <td>yurtsom01</td>\n",
       "    </tr>\n",
       "  </tbody>\n",
       "</table>\n",
       "<p>212 rows × 31 columns</p>\n",
       "</div>"
      ],
      "text/plain": [
       "      Rk            Player Pos  Age   Tm  G  GS   MP  FG  FGA  ...  ORB  DRB  \\\n",
       "0      1      Devin Booker  SG   26  PHO  5   5  216  71  118  ...    7   18   \n",
       "1      2   Anthony Edwards  SG   21  MIN  5   5  199  55  114  ...    3   22   \n",
       "2      3      Jimmy Butler  SF   33  MIA  4   4  140  54   86  ...    8   14   \n",
       "3      4        Trae Young  PG   24  ATL  5   5  190  51  121  ...    5   14   \n",
       "4      5      Kevin Durant  SF   34  PHO  5   5  219  44   85  ...    3   35   \n",
       "..   ...               ...  ..  ...  ... ..  ..  ...  ..  ...  ...  ...  ...   \n",
       "207  208  Lonnie Walker IV  SG   24  LAL  2   0    1   0    0  ...    0    0   \n",
       "208  209       T.J. Warren  SF   29  PHO  2   0    6   0    1  ...    0    0   \n",
       "209  210     Peyton Watson  SG   20  DEN  1   0    4   0    1  ...    1    0   \n",
       "210  211   Ziaire Williams  SF   21  MEM  2   0    1   0    0  ...    0    0   \n",
       "211  212    Omer Yurtseven   C   24  MIA  1   0    3   0    0  ...    0    0   \n",
       "\n",
       "     TRB  AST  STL  BLK  TOV  PF  PTS▼  Player-additional  \n",
       "0     25   32   13    5   15  14   186          bookede01  \n",
       "1     25   26    9   10    8  13   158          edwaran01  \n",
       "2     22   20    7    1    7   6   146          butleji01  \n",
       "3     19   51    9    2   19   8   145          youngtr01  \n",
       "4     38   31    5    5   16  12   142          duranke01  \n",
       "..   ...  ...  ...  ...  ...  ..   ...                ...  \n",
       "207    0    0    0    0    0   0     0          walkelo01  \n",
       "208    0    0    0    0    0   2     0          warretj01  \n",
       "209    1    1    0    0    0   0     0          watsope01  \n",
       "210    0    0    0    0    1   0     0          willizi02  \n",
       "211    0    1    0    0    0   0     0          yurtsom01  \n",
       "\n",
       "[212 rows x 31 columns]"
      ]
     },
     "execution_count": 347,
     "metadata": {},
     "output_type": "execute_result"
    }
   ],
   "source": [
    "players"
   ]
  },
  {
   "cell_type": "code",
   "execution_count": 348,
   "id": "5cd36aed",
   "metadata": {},
   "outputs": [
    {
     "name": "stdout",
     "output_type": "stream",
     "text": [
      "https://www.basketball-reference.com/players/c/greendr01/gamelog-playoffs/\n"
     ]
    }
   ],
   "source": [
    "base = 'https://www.basketball-reference.com/players/c/greendr01/gamelog-playoffs/'\n",
    "# NBA season we will be analyzing\n",
    "# URL page we will scraping (see image above)\n",
    "url = base\n",
    "print(url)\n",
    "# this is the HTML from the given URL\n",
    "html = urlopen(url)\n",
    "soup = BeautifulSoup(html)"
   ]
  },
  {
   "cell_type": "code",
   "execution_count": 349,
   "id": "1131fb6a",
   "metadata": {},
   "outputs": [
    {
     "name": "stdout",
     "output_type": "stream",
     "text": [
      "['Player', 'G', '2013 Playoffs', 'Series', 'Tm', '\\xa0', 'Opp', 'G#', '\\xa0', 'GS', 'MP', 'FG', 'FGA', 'FG%', '3P', '3PA', '3P%', 'FT', 'FTA', 'FT%', 'ORB', 'DRB', 'TRB', 'AST', 'STL', 'BLK', 'TOV', 'PF', 'PTS', 'GmSc', '+/-']\n"
     ]
    }
   ],
   "source": [
    "# use findALL() to get the column headers\n",
    "soup.findAll('tr', limit=40)\n",
    "# use getText()to extract the text we need into a list\n",
    "i = 0\n",
    "while i < 40:\n",
    "    headers = [th.getText() for th in soup.findAll('tr', limit=40)[i].findAll('th')]\n",
    "    i = i +1\n",
    "    if headers:\n",
    "        idx = i\n",
    "        i = 41\n",
    "\n",
    "headers[0] = 'Player'\n",
    "print(headers)"
   ]
  },
  {
   "cell_type": "code",
   "execution_count": 350,
   "id": "74180de8",
   "metadata": {
    "scrolled": true
   },
   "outputs": [
    {
     "ename": "ValueError",
     "evalue": "31 columns passed, passed data had 30 columns",
     "output_type": "error",
     "traceback": [
      "\u001b[1;31m---------------------------------------------------------------------------\u001b[0m",
      "\u001b[1;31mAssertionError\u001b[0m                            Traceback (most recent call last)",
      "File \u001b[1;32m~\\anaconda3\\lib\\site-packages\\pandas\\core\\internals\\construction.py:982\u001b[0m, in \u001b[0;36m_finalize_columns_and_data\u001b[1;34m(content, columns, dtype)\u001b[0m\n\u001b[0;32m    981\u001b[0m \u001b[38;5;28;01mtry\u001b[39;00m:\n\u001b[1;32m--> 982\u001b[0m     columns \u001b[38;5;241m=\u001b[39m \u001b[43m_validate_or_indexify_columns\u001b[49m\u001b[43m(\u001b[49m\u001b[43mcontents\u001b[49m\u001b[43m,\u001b[49m\u001b[43m \u001b[49m\u001b[43mcolumns\u001b[49m\u001b[43m)\u001b[49m\n\u001b[0;32m    983\u001b[0m \u001b[38;5;28;01mexcept\u001b[39;00m \u001b[38;5;167;01mAssertionError\u001b[39;00m \u001b[38;5;28;01mas\u001b[39;00m err:\n\u001b[0;32m    984\u001b[0m     \u001b[38;5;66;03m# GH#26429 do not raise user-facing AssertionError\u001b[39;00m\n",
      "File \u001b[1;32m~\\anaconda3\\lib\\site-packages\\pandas\\core\\internals\\construction.py:1030\u001b[0m, in \u001b[0;36m_validate_or_indexify_columns\u001b[1;34m(content, columns)\u001b[0m\n\u001b[0;32m   1028\u001b[0m \u001b[38;5;28;01mif\u001b[39;00m \u001b[38;5;129;01mnot\u001b[39;00m is_mi_list \u001b[38;5;129;01mand\u001b[39;00m \u001b[38;5;28mlen\u001b[39m(columns) \u001b[38;5;241m!=\u001b[39m \u001b[38;5;28mlen\u001b[39m(content):  \u001b[38;5;66;03m# pragma: no cover\u001b[39;00m\n\u001b[0;32m   1029\u001b[0m     \u001b[38;5;66;03m# caller's responsibility to check for this...\u001b[39;00m\n\u001b[1;32m-> 1030\u001b[0m     \u001b[38;5;28;01mraise\u001b[39;00m \u001b[38;5;167;01mAssertionError\u001b[39;00m(\n\u001b[0;32m   1031\u001b[0m         \u001b[38;5;124mf\u001b[39m\u001b[38;5;124m\"\u001b[39m\u001b[38;5;132;01m{\u001b[39;00m\u001b[38;5;28mlen\u001b[39m(columns)\u001b[38;5;132;01m}\u001b[39;00m\u001b[38;5;124m columns passed, passed data had \u001b[39m\u001b[38;5;124m\"\u001b[39m\n\u001b[0;32m   1032\u001b[0m         \u001b[38;5;124mf\u001b[39m\u001b[38;5;124m\"\u001b[39m\u001b[38;5;132;01m{\u001b[39;00m\u001b[38;5;28mlen\u001b[39m(content)\u001b[38;5;132;01m}\u001b[39;00m\u001b[38;5;124m columns\u001b[39m\u001b[38;5;124m\"\u001b[39m\n\u001b[0;32m   1033\u001b[0m     )\n\u001b[0;32m   1034\u001b[0m \u001b[38;5;28;01melif\u001b[39;00m is_mi_list:\n\u001b[0;32m   1035\u001b[0m \n\u001b[0;32m   1036\u001b[0m     \u001b[38;5;66;03m# check if nested list column, length of each sub-list should be equal\u001b[39;00m\n",
      "\u001b[1;31mAssertionError\u001b[0m: 31 columns passed, passed data had 30 columns",
      "\nThe above exception was the direct cause of the following exception:\n",
      "\u001b[1;31mValueError\u001b[0m                                Traceback (most recent call last)",
      "Input \u001b[1;32mIn [350]\u001b[0m, in \u001b[0;36m<cell line: 5>\u001b[1;34m()\u001b[0m\n\u001b[0;32m      2\u001b[0m rows \u001b[38;5;241m=\u001b[39m soup\u001b[38;5;241m.\u001b[39mfindAll(\u001b[38;5;124m'\u001b[39m\u001b[38;5;124mtr\u001b[39m\u001b[38;5;124m'\u001b[39m)\n\u001b[0;32m      3\u001b[0m player_stats \u001b[38;5;241m=\u001b[39m [[td\u001b[38;5;241m.\u001b[39mgetText() \u001b[38;5;28;01mfor\u001b[39;00m td \u001b[38;5;129;01min\u001b[39;00m rows[i]\u001b[38;5;241m.\u001b[39mfindAll(\u001b[38;5;124m'\u001b[39m\u001b[38;5;124mtd\u001b[39m\u001b[38;5;124m'\u001b[39m)]\n\u001b[0;32m      4\u001b[0m             \u001b[38;5;28;01mfor\u001b[39;00m i \u001b[38;5;129;01min\u001b[39;00m \u001b[38;5;28mrange\u001b[39m(\u001b[38;5;28mlen\u001b[39m(rows))]\n\u001b[1;32m----> 5\u001b[0m stats \u001b[38;5;241m=\u001b[39m \u001b[43mpd\u001b[49m\u001b[38;5;241;43m.\u001b[39;49m\u001b[43mDataFrame\u001b[49m\u001b[43m(\u001b[49m\u001b[43mplayer_stats\u001b[49m\u001b[43m,\u001b[49m\u001b[43m \u001b[49m\u001b[43mcolumns\u001b[49m\u001b[43m \u001b[49m\u001b[38;5;241;43m=\u001b[39;49m\u001b[43m \u001b[49m\u001b[43mheaders\u001b[49m\u001b[43m)\u001b[49m\n\u001b[0;32m      6\u001b[0m stats\n",
      "File \u001b[1;32m~\\anaconda3\\lib\\site-packages\\pandas\\core\\frame.py:721\u001b[0m, in \u001b[0;36mDataFrame.__init__\u001b[1;34m(self, data, index, columns, dtype, copy)\u001b[0m\n\u001b[0;32m    716\u001b[0m     \u001b[38;5;28;01mif\u001b[39;00m columns \u001b[38;5;129;01mis\u001b[39;00m \u001b[38;5;129;01mnot\u001b[39;00m \u001b[38;5;28;01mNone\u001b[39;00m:\n\u001b[0;32m    717\u001b[0m         \u001b[38;5;66;03m# error: Argument 1 to \"ensure_index\" has incompatible type\u001b[39;00m\n\u001b[0;32m    718\u001b[0m         \u001b[38;5;66;03m# \"Collection[Any]\"; expected \"Union[Union[Union[ExtensionArray,\u001b[39;00m\n\u001b[0;32m    719\u001b[0m         \u001b[38;5;66;03m# ndarray], Index, Series], Sequence[Any]]\"\u001b[39;00m\n\u001b[0;32m    720\u001b[0m         columns \u001b[38;5;241m=\u001b[39m ensure_index(columns)  \u001b[38;5;66;03m# type: ignore[arg-type]\u001b[39;00m\n\u001b[1;32m--> 721\u001b[0m     arrays, columns, index \u001b[38;5;241m=\u001b[39m \u001b[43mnested_data_to_arrays\u001b[49m\u001b[43m(\u001b[49m\n\u001b[0;32m    722\u001b[0m \u001b[43m        \u001b[49m\u001b[38;5;66;43;03m# error: Argument 3 to \"nested_data_to_arrays\" has incompatible\u001b[39;49;00m\n\u001b[0;32m    723\u001b[0m \u001b[43m        \u001b[49m\u001b[38;5;66;43;03m# type \"Optional[Collection[Any]]\"; expected \"Optional[Index]\"\u001b[39;49;00m\n\u001b[0;32m    724\u001b[0m \u001b[43m        \u001b[49m\u001b[43mdata\u001b[49m\u001b[43m,\u001b[49m\n\u001b[0;32m    725\u001b[0m \u001b[43m        \u001b[49m\u001b[43mcolumns\u001b[49m\u001b[43m,\u001b[49m\n\u001b[0;32m    726\u001b[0m \u001b[43m        \u001b[49m\u001b[43mindex\u001b[49m\u001b[43m,\u001b[49m\u001b[43m  \u001b[49m\u001b[38;5;66;43;03m# type: ignore[arg-type]\u001b[39;49;00m\n\u001b[0;32m    727\u001b[0m \u001b[43m        \u001b[49m\u001b[43mdtype\u001b[49m\u001b[43m,\u001b[49m\n\u001b[0;32m    728\u001b[0m \u001b[43m    \u001b[49m\u001b[43m)\u001b[49m\n\u001b[0;32m    729\u001b[0m     mgr \u001b[38;5;241m=\u001b[39m arrays_to_mgr(\n\u001b[0;32m    730\u001b[0m         arrays,\n\u001b[0;32m    731\u001b[0m         columns,\n\u001b[1;32m   (...)\u001b[0m\n\u001b[0;32m    734\u001b[0m         typ\u001b[38;5;241m=\u001b[39mmanager,\n\u001b[0;32m    735\u001b[0m     )\n\u001b[0;32m    736\u001b[0m \u001b[38;5;28;01melse\u001b[39;00m:\n",
      "File \u001b[1;32m~\\anaconda3\\lib\\site-packages\\pandas\\core\\internals\\construction.py:519\u001b[0m, in \u001b[0;36mnested_data_to_arrays\u001b[1;34m(data, columns, index, dtype)\u001b[0m\n\u001b[0;32m    516\u001b[0m \u001b[38;5;28;01mif\u001b[39;00m is_named_tuple(data[\u001b[38;5;241m0\u001b[39m]) \u001b[38;5;129;01mand\u001b[39;00m columns \u001b[38;5;129;01mis\u001b[39;00m \u001b[38;5;28;01mNone\u001b[39;00m:\n\u001b[0;32m    517\u001b[0m     columns \u001b[38;5;241m=\u001b[39m ensure_index(data[\u001b[38;5;241m0\u001b[39m]\u001b[38;5;241m.\u001b[39m_fields)\n\u001b[1;32m--> 519\u001b[0m arrays, columns \u001b[38;5;241m=\u001b[39m \u001b[43mto_arrays\u001b[49m\u001b[43m(\u001b[49m\u001b[43mdata\u001b[49m\u001b[43m,\u001b[49m\u001b[43m \u001b[49m\u001b[43mcolumns\u001b[49m\u001b[43m,\u001b[49m\u001b[43m \u001b[49m\u001b[43mdtype\u001b[49m\u001b[38;5;241;43m=\u001b[39;49m\u001b[43mdtype\u001b[49m\u001b[43m)\u001b[49m\n\u001b[0;32m    520\u001b[0m columns \u001b[38;5;241m=\u001b[39m ensure_index(columns)\n\u001b[0;32m    522\u001b[0m \u001b[38;5;28;01mif\u001b[39;00m index \u001b[38;5;129;01mis\u001b[39;00m \u001b[38;5;28;01mNone\u001b[39;00m:\n",
      "File \u001b[1;32m~\\anaconda3\\lib\\site-packages\\pandas\\core\\internals\\construction.py:883\u001b[0m, in \u001b[0;36mto_arrays\u001b[1;34m(data, columns, dtype)\u001b[0m\n\u001b[0;32m    880\u001b[0m     data \u001b[38;5;241m=\u001b[39m [\u001b[38;5;28mtuple\u001b[39m(x) \u001b[38;5;28;01mfor\u001b[39;00m x \u001b[38;5;129;01min\u001b[39;00m data]\n\u001b[0;32m    881\u001b[0m     arr \u001b[38;5;241m=\u001b[39m _list_to_arrays(data)\n\u001b[1;32m--> 883\u001b[0m content, columns \u001b[38;5;241m=\u001b[39m \u001b[43m_finalize_columns_and_data\u001b[49m\u001b[43m(\u001b[49m\u001b[43marr\u001b[49m\u001b[43m,\u001b[49m\u001b[43m \u001b[49m\u001b[43mcolumns\u001b[49m\u001b[43m,\u001b[49m\u001b[43m \u001b[49m\u001b[43mdtype\u001b[49m\u001b[43m)\u001b[49m\n\u001b[0;32m    884\u001b[0m \u001b[38;5;28;01mreturn\u001b[39;00m content, columns\n",
      "File \u001b[1;32m~\\anaconda3\\lib\\site-packages\\pandas\\core\\internals\\construction.py:985\u001b[0m, in \u001b[0;36m_finalize_columns_and_data\u001b[1;34m(content, columns, dtype)\u001b[0m\n\u001b[0;32m    982\u001b[0m     columns \u001b[38;5;241m=\u001b[39m _validate_or_indexify_columns(contents, columns)\n\u001b[0;32m    983\u001b[0m \u001b[38;5;28;01mexcept\u001b[39;00m \u001b[38;5;167;01mAssertionError\u001b[39;00m \u001b[38;5;28;01mas\u001b[39;00m err:\n\u001b[0;32m    984\u001b[0m     \u001b[38;5;66;03m# GH#26429 do not raise user-facing AssertionError\u001b[39;00m\n\u001b[1;32m--> 985\u001b[0m     \u001b[38;5;28;01mraise\u001b[39;00m \u001b[38;5;167;01mValueError\u001b[39;00m(err) \u001b[38;5;28;01mfrom\u001b[39;00m \u001b[38;5;21;01merr\u001b[39;00m\n\u001b[0;32m    987\u001b[0m \u001b[38;5;28;01mif\u001b[39;00m \u001b[38;5;28mlen\u001b[39m(contents) \u001b[38;5;129;01mand\u001b[39;00m contents[\u001b[38;5;241m0\u001b[39m]\u001b[38;5;241m.\u001b[39mdtype \u001b[38;5;241m==\u001b[39m np\u001b[38;5;241m.\u001b[39mobject_:\n\u001b[0;32m    988\u001b[0m     contents \u001b[38;5;241m=\u001b[39m _convert_object_array(contents, dtype\u001b[38;5;241m=\u001b[39mdtype)\n",
      "\u001b[1;31mValueError\u001b[0m: 31 columns passed, passed data had 30 columns"
     ]
    }
   ],
   "source": [
    "# avoid the first header row\n",
    "rows = soup.findAll('tr')\n",
    "player_stats = [[td.getText() for td in rows[i].findAll('td')]\n",
    "            for i in range(len(rows))]\n",
    "stats = pd.DataFrame(player_stats, columns = headers)\n",
    "stats"
   ]
  },
  {
   "cell_type": "code",
   "execution_count": null,
   "id": "44bd4a0f",
   "metadata": {
    "scrolled": true
   },
   "outputs": [],
   "source": [
    "stats = stats.dropna()\n",
    "stats.reset_index(drop=True,inplace=True)\n",
    "stats"
   ]
  },
  {
   "cell_type": "code",
   "execution_count": null,
   "id": "83e1465c",
   "metadata": {},
   "outputs": [],
   "source": [
    "def get_stats(num):\n",
    "    for person in range(num):\n",
    "        # NBA season we will be analyzing\n",
    "        player = player_id[person]\n",
    "        person = person\n",
    "        url = f'https://www.basketball-reference.com/players/c/{player}/gamelog-playoffs/'\n",
    "        # URL page we will scraping\n",
    "        print(url)\n",
    "        time.sleep(2.95)\n",
    "        # this is the HTML from the given URL\n",
    "        content, soup, ct = parse_url(url)\n",
    "        cols = [['G', 'Round', 'Series', 'Tm', ' ', 'Opp', 'G#', ' ', 'GS', 'MP',\n",
    "       'FG', 'FGA', 'FG%', '3P', '3PA', '3P%', 'FT', 'FTA', 'FT%', 'ORB',\n",
    "       'DRB', 'TRB', 'AST', 'STL', 'BLK', 'TOV', 'PF', 'PTS', 'GmSc', '+/-']]\n",
    "        # use findALL() to get the column headers\n",
    "        soup.findAll('tr', limit=35)\n",
    "        # use getText()to extract the text we need into a list\n",
    "        i = 0\n",
    "        try:\n",
    "            while i < 40:\n",
    "                headers = [th.getText() for th in soup.findAll('tr', limit=40)[i].findAll('th')]\n",
    "                i = i +1\n",
    "                if headers:\n",
    "                    idx = i\n",
    "                    i = 41\n",
    "\n",
    "            headers = headers[1:]\n",
    "\n",
    "            rows = soup.findAll('tr')\n",
    "            player_stats = [[td.getText() for td in rows[i].findAll('td')]\n",
    "                        for i in range(len(rows))]\n",
    "            stats = pd.DataFrame(player_stats, columns = cols)\n",
    "            stats = stats.dropna()\n",
    "            stats = stats.reset_index(drop=True)\n",
    "            stats.insert(0, 'Player', player_name[person])\n",
    "            stats.index = range(len(stats))\n",
    "            if person == 0:\n",
    "                data_core = stats\n",
    "            else:\n",
    "                data_core = pd.concat([data_core,stats])\n",
    "            print(n,'/',person,player_name[person])\n",
    "        except:\n",
    "            print(person,'no playoff games')\n",
    "    return data_core\n"
   ]
  },
  {
   "cell_type": "code",
   "execution_count": null,
   "id": "0b2ef7e8",
   "metadata": {
    "scrolled": true
   },
   "outputs": [],
   "source": [
    "test = get_stats(len(player_name))"
   ]
  },
  {
   "cell_type": "code",
   "execution_count": null,
   "id": "6b13c441",
   "metadata": {},
   "outputs": [],
   "source": [
    "test.dropna(inplace=True)\n",
    "save = test.copy(deep=True)"
   ]
  },
  {
   "cell_type": "code",
   "execution_count": null,
   "id": "d3ddd60c",
   "metadata": {},
   "outputs": [],
   "source": [
    "save"
   ]
  },
  {
   "cell_type": "code",
   "execution_count": null,
   "id": "e8bd13bc",
   "metadata": {},
   "outputs": [],
   "source": [
    "test = test.reset_index(drop=True)\n",
    "test"
   ]
  },
  {
   "cell_type": "code",
   "execution_count": null,
   "id": "0c385f92",
   "metadata": {},
   "outputs": [],
   "source": [
    "headers"
   ]
  },
  {
   "cell_type": "code",
   "execution_count": null,
   "id": "5857fdb7",
   "metadata": {},
   "outputs": [],
   "source": [
    "test = test.reset_index(drop=True)\n",
    "x = pd.DataFrame(test.values)\n",
    "x.columns = headers\n",
    "x.replace('', np.nan, inplace=True)\n",
    "x = x.dropna(subset='Opp').reset_index(drop=True)\n",
    "test = x"
   ]
  },
  {
   "cell_type": "code",
   "execution_count": null,
   "id": "4b2741eb",
   "metadata": {},
   "outputs": [],
   "source": [
    "test.columns = ['Player', 'G', 'Date', 'Series', 'Tm', 'H/A', 'Opp', 'G#', 'W/L',\n",
    "       'GS', 'MP', 'FG', 'FGA', 'FG%', '3P', '3PA', '3P%', 'FT', 'FTA', 'FT%',\n",
    "       'ORB', 'DRB', 'TRB', 'AST', 'STL', 'BLK', 'TOV', 'PF', 'PTS', 'GmSc',\n",
    "       '+/-']"
   ]
  },
  {
   "cell_type": "code",
   "execution_count": null,
   "id": "72cc7ed9",
   "metadata": {},
   "outputs": [],
   "source": [
    "test"
   ]
  },
  {
   "cell_type": "code",
   "execution_count": null,
   "id": "0ca99922",
   "metadata": {},
   "outputs": [],
   "source": [
    "test['Date'] = pd.to_datetime(test['Date'])\n",
    "data = test.copy(deep=True)\n",
    "for i in range(len(data)):\n",
    "    data.iloc[i,0] = unidecode(data.iloc[i,0]).replace('_',' ')\n",
    "    \n",
    "    \n",
    "\n",
    "    #remove special characters"
   ]
  },
  {
   "cell_type": "code",
   "execution_count": null,
   "id": "8ed36c48",
   "metadata": {},
   "outputs": [],
   "source": [
    "data"
   ]
  },
  {
   "cell_type": "code",
   "execution_count": null,
   "id": "d12da550",
   "metadata": {},
   "outputs": [],
   "source": [
    "data = data.reset_index(drop=True)"
   ]
  },
  {
   "cell_type": "code",
   "execution_count": null,
   "id": "972d3144",
   "metadata": {},
   "outputs": [],
   "source": [
    "data['Player'][2]"
   ]
  },
  {
   "cell_type": "code",
   "execution_count": null,
   "id": "267e8496",
   "metadata": {},
   "outputs": [],
   "source": [
    "len(data['Player'].unique())"
   ]
  },
  {
   "cell_type": "code",
   "execution_count": null,
   "id": "f3a37f19",
   "metadata": {},
   "outputs": [],
   "source": [
    "info = pd.read_csv('player_index.csv')\n",
    "for i in range(len(info)):\n",
    "    info.iloc[i,1] = unidecode(info.iloc[i,1]).replace('_',' ')\n",
    "print(data['Player'][2])\n",
    "\n",
    "p2pos = {player:pos for player,pos in zip(info['Player'].to_list(),info['Pos'].to_list())}\n",
    "pos = []\n",
    "for i in range(len(data)):\n",
    "    try:\n",
    "        pos.append(p2pos[data.iloc[i][0]])\n",
    "    except:\n",
    "        pos.append('F')\n",
    "pos\n",
    "\n",
    "data['Pos'] = pos\n",
    "data"
   ]
  },
  {
   "cell_type": "code",
   "execution_count": null,
   "id": "95da63cf",
   "metadata": {},
   "outputs": [],
   "source": [
    "minutes =  data['MP'].to_list()\n",
    "\n",
    "for i in range(len(minutes)):\n",
    "    new = minutes[i].split(':')\n",
    "    res = float(new[0])+(float(new[1])/60)\n",
    "    minutes[i] = res\n",
    "data['MP'] = minutes\n"
   ]
  },
  {
   "cell_type": "code",
   "execution_count": null,
   "id": "0841bd03",
   "metadata": {},
   "outputs": [],
   "source": [
    "\n",
    "\n",
    "home = data['H/A'].values\n",
    "\n",
    "for i in range(len(home)):\n",
    "    if home[i] == '@':\n",
    "        home[i] = 0\n",
    "    else:\n",
    "        home[i] = 1\n",
    "home[0:10]\n"
   ]
  },
  {
   "cell_type": "code",
   "execution_count": null,
   "id": "8f6028e2",
   "metadata": {},
   "outputs": [],
   "source": [
    "data['H/A'] = home\n",
    "data = data.replace('CHO','CHA')\n",
    "data = data.replace('PHO','PHX')\n",
    "data= data.replace('BRK','BKN')\n",
    "\n",
    "WL = data['W/L'].values.astype(str)\n",
    "margin = []\n",
    "for i in range(len(WL)):\n",
    "    input_string = WL[i]\n",
    "    output = re.match(r\"^[WL]\\s*\\(([+-]?\\d+)\\)\", input_string).group(1)\n",
    "    margin.append(output)\n",
    "\n",
    "margin[0:10]\n",
    "data['W/L']=margin\n",
    "data['W/L'] = data['W/L'].astype(int)"
   ]
  },
  {
   "cell_type": "code",
   "execution_count": null,
   "id": "e87fa1d5",
   "metadata": {},
   "outputs": [],
   "source": [
    "data['Date'].max()"
   ]
  },
  {
   "cell_type": "code",
   "execution_count": null,
   "id": "59f2c615",
   "metadata": {},
   "outputs": [],
   "source": [
    "KM_vals = pd.read_csv('KM_vals.csv',index_col=0)"
   ]
  },
  {
   "cell_type": "code",
   "execution_count": null,
   "id": "6843cfe5",
   "metadata": {},
   "outputs": [],
   "source": [
    "KM_dict = dict(zip(KM_vals.Player,KM_vals.KM))"
   ]
  },
  {
   "cell_type": "code",
   "execution_count": null,
   "id": "40c912d7",
   "metadata": {},
   "outputs": [],
   "source": [
    "data.Player.values[0][0]"
   ]
  },
  {
   "cell_type": "code",
   "execution_count": null,
   "id": "297b5abb",
   "metadata": {},
   "outputs": [],
   "source": [
    "temp = []\n",
    "for p in data.Player.values:\n",
    "    if p[0] in KM_dict:\n",
    "        temp.append(KM_dict[p[0]])\n",
    "    else:\n",
    "        temp.append(15)\n",
    "data['KM'] = temp"
   ]
  },
  {
   "cell_type": "code",
   "execution_count": null,
   "id": "01c36cc1",
   "metadata": {},
   "outputs": [],
   "source": [
    "data[['FG%','3P%','FT%']] = data[['FG%','3P%','FT%']].replace(5.00,0)"
   ]
  },
  {
   "cell_type": "code",
   "execution_count": null,
   "id": "b8a04bd0",
   "metadata": {},
   "outputs": [],
   "source": [
    "data.to_csv('pdata.csv',index=False)"
   ]
  },
  {
   "cell_type": "code",
   "execution_count": null,
   "id": "c1304c1e",
   "metadata": {},
   "outputs": [],
   "source": [
    "data"
   ]
  },
  {
   "cell_type": "code",
   "execution_count": null,
   "id": "8d6fede7",
   "metadata": {},
   "outputs": [],
   "source": [
    "data.loc[data.Player=='Stephen Curry'].sort_values(by='Date')"
   ]
  },
  {
   "cell_type": "code",
   "execution_count": null,
   "id": "9a79420f",
   "metadata": {},
   "outputs": [],
   "source": []
  }
 ],
 "metadata": {
  "kernelspec": {
   "display_name": "Python 3 (ipykernel)",
   "language": "python",
   "name": "python3"
  },
  "language_info": {
   "codemirror_mode": {
    "name": "ipython",
    "version": 3
   },
   "file_extension": ".py",
   "mimetype": "text/x-python",
   "name": "python",
   "nbconvert_exporter": "python",
   "pygments_lexer": "ipython3",
   "version": "3.9.12"
  }
 },
 "nbformat": 4,
 "nbformat_minor": 5
}
