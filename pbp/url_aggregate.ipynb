{
 "cells": [
  {
   "cell_type": "code",
   "execution_count": 1,
   "metadata": {},
   "outputs": [],
   "source": [
    "import requests\n",
    "import json\n",
    "import pandas as pd"
   ]
  },
  {
   "cell_type": "code",
   "execution_count": 11,
   "metadata": {},
   "outputs": [],
   "source": [
    "def fetch_game_ids(years) -> pd.DataFrame:\n",
    "    df = pd.DataFrame()\n",
    "    for year in years:\n",
    "        url = f'https://stats.nba.com/stats/leaguegamelog?Counter=1000&DateFrom=&DateTo=&Direction=DESC&ISTRound=&LeagueID=00&PlayerOrTeam=T&Season=20{year-1}-{year}&SeasonType=Regular%20Season&Sorter=DATE'\n",
    "        headers = {'User-Agent': 'Mozilla/5.0 (Windows NT 10.0; WOW64)', 'x-nba-stats-origin': 'stats', 'x-nba-stats-token': 'true', 'Host':'stats.nba.com', 'Referer':f'https://www.nba.com/'}\n",
    "        r= requests.get(url, headers=headers, timeout = 7)\n",
    "        data = json.loads(r.text)\n",
    "        games = data['resultSets'][0]['rowSet']\n",
    "        ids = [[info[4],info[5],info[6].split(' @ ')[0],info[6].split(' @ ')[1]] for info in games if '@' in info[6]]\n",
    "        ids = sorted(ids)\n",
    "        temp_df = pd.DataFrame.from_dict(ids)\n",
    "        temp_df.columns=[['game_id','date','home','away']]\n",
    "        temp_df['season'] = year\n",
    "        if df.empty:\n",
    "            df = temp_df.copy(deep=True)\n",
    "        else:\n",
    "            df = pd.concat((df,temp_df))\n",
    "    df\n",
    "    df['game_id'] = df['game_id'].astype(str)\n",
    "    df.to_csv('game_ids.csv',index=False)\n",
    "    return df\n",
    "fetch_game_ids(range(20,25))"
   ]
  },
  {
   "cell_type": "code",
   "execution_count": 26,
   "metadata": {},
   "outputs": [
    {
     "name": "stdout",
     "output_type": "stream",
     "text": [
      "23\n",
      "24\n"
     ]
    }
   ],
   "source": [
    "for x in range(23,25):\n",
    "    print(x)"
   ]
  },
  {
   "cell_type": "code",
   "execution_count": 13,
   "metadata": {},
   "outputs": [],
   "source": [
    "game_ids = pd.read_csv('game_ids.csv',dtype={'game_id':'str'})"
   ]
  },
  {
   "cell_type": "code",
   "execution_count": 23,
   "metadata": {},
   "outputs": [],
   "source": [
    "import os\n",
    "import datetime as dt\n",
    "update_date = dt.date.fromtimestamp(os.path.getmtime('game_ids.csv'))"
   ]
  },
  {
   "cell_type": "code",
   "execution_count": 25,
   "metadata": {},
   "outputs": [
    {
     "data": {
      "text/plain": [
       "True"
      ]
     },
     "execution_count": 25,
     "metadata": {},
     "output_type": "execute_result"
    }
   ],
   "source": [
    "update_date == dt.date.today()"
   ]
  },
  {
   "cell_type": "code",
   "execution_count": null,
   "metadata": {},
   "outputs": [],
   "source": []
  }
 ],
 "metadata": {
  "kernelspec": {
   "display_name": "base",
   "language": "python",
   "name": "python3"
  },
  "language_info": {
   "codemirror_mode": {
    "name": "ipython",
    "version": 3
   },
   "file_extension": ".py",
   "mimetype": "text/x-python",
   "name": "python",
   "nbconvert_exporter": "python",
   "pygments_lexer": "ipython3",
   "version": "3.11.5"
  },
  "orig_nbformat": 4
 },
 "nbformat": 4,
 "nbformat_minor": 2
}
