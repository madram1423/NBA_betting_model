{
 "cells": [
  {
   "cell_type": "code",
   "execution_count": 3,
   "metadata": {},
   "outputs": [
    {
     "data": {
      "text/plain": [
       "6"
      ]
     },
     "execution_count": 3,
     "metadata": {},
     "output_type": "execute_result"
    }
   ],
   "source": [
    "import random \n",
    "import pandas as pd\n",
    "\n",
    "acronyms = pd.read_csv('acronyms.csv',index_col=0)\n",
    "standings = pd.read_csv('data/current_standings.csv')\n",
    "\n",
    "\n",
    "shared_preds = ['DEN','GSW','PHX','LAL','SAC','LAC','MEM','DAL']\n",
    "real = random.sample(shared_preds,8)\n",
    "\n",
    "def compute_score(pred_rank,actual_rank):\n",
    "    diff = pred_rank-actual_rank\n",
    "    if diff == 0:\n",
    "        return 3\n",
    "    elif diff == 1:\n",
    "        return 2\n",
    "    elif diff == 2:\n",
    "        return 1\n",
    "    return 0\n",
    "\n",
    "def sum_scores(user_pred, standings):\n",
    "    scores = []\n",
    "    for rank,team in enumerate(user_pred):\n",
    "        scores.append(compute_score(rank,standings.index(team)))\n",
    "    return sum(scores)\n",
    "\n",
    "sum_scores(shared_preds,real)"
   ]
  },
  {
   "cell_type": "code",
   "execution_count": 5,
   "metadata": {},
   "outputs": [],
   "source": [
    "acr_dict = {}\n",
    "for i in range(len(acronyms)):\n",
    "    acr_dict[acronyms.Acr[i]] = acronyms.Team[i]"
   ]
  },
  {
   "cell_type": "code",
   "execution_count": 6,
   "metadata": {},
   "outputs": [],
   "source": [
    "shared_preds_full = []\n",
    "for team in shared_preds:\n",
    "    shared_preds_full.append(acr_dict[team])"
   ]
  },
  {
   "cell_type": "code",
   "execution_count": 7,
   "metadata": {},
   "outputs": [],
   "source": [
    "east_list = standings.East.to_list()\n",
    "west_list = standings.West.to_list()"
   ]
  },
  {
   "cell_type": "code",
   "execution_count": 10,
   "metadata": {},
   "outputs": [
    {
     "ename": "ValueError",
     "evalue": "'Denver Nuggets' is not in list",
     "output_type": "error",
     "traceback": [
      "\u001b[1;31m---------------------------------------------------------------------------\u001b[0m",
      "\u001b[1;31mValueError\u001b[0m                                Traceback (most recent call last)",
      "\u001b[1;32mc:\\Users\\Shared.Westover\\Documents\\youpyter\\pbp\\leaderboard.ipynb Cell 5\u001b[0m line \u001b[0;36m1\n\u001b[1;32m----> <a href='vscode-notebook-cell:/c%3A/Users/Shared.Westover/Documents/youpyter/pbp/leaderboard.ipynb#W4sZmlsZQ%3D%3D?line=0'>1</a>\u001b[0m sum_scores(shared_preds_full,west_list)\n",
      "\u001b[1;32mc:\\Users\\Shared.Westover\\Documents\\youpyter\\pbp\\leaderboard.ipynb Cell 5\u001b[0m line \u001b[0;36m2\n\u001b[0;32m     <a href='vscode-notebook-cell:/c%3A/Users/Shared.Westover/Documents/youpyter/pbp/leaderboard.ipynb#W4sZmlsZQ%3D%3D?line=21'>22</a>\u001b[0m scores \u001b[39m=\u001b[39m []\n\u001b[0;32m     <a href='vscode-notebook-cell:/c%3A/Users/Shared.Westover/Documents/youpyter/pbp/leaderboard.ipynb#W4sZmlsZQ%3D%3D?line=22'>23</a>\u001b[0m \u001b[39mfor\u001b[39;00m rank,team \u001b[39min\u001b[39;00m \u001b[39menumerate\u001b[39m(user_pred):\n\u001b[1;32m---> <a href='vscode-notebook-cell:/c%3A/Users/Shared.Westover/Documents/youpyter/pbp/leaderboard.ipynb#W4sZmlsZQ%3D%3D?line=23'>24</a>\u001b[0m     scores\u001b[39m.\u001b[39mappend(compute_score(rank,standings\u001b[39m.\u001b[39mindex(team)))\n\u001b[0;32m     <a href='vscode-notebook-cell:/c%3A/Users/Shared.Westover/Documents/youpyter/pbp/leaderboard.ipynb#W4sZmlsZQ%3D%3D?line=24'>25</a>\u001b[0m \u001b[39mreturn\u001b[39;00m \u001b[39msum\u001b[39m(scores)\n",
      "\u001b[1;31mValueError\u001b[0m: 'Denver Nuggets' is not in list"
     ]
    }
   ],
   "source": [
    "sum_scores(shared_preds_full,west_list)"
   ]
  },
  {
   "cell_type": "code",
   "execution_count": 9,
   "metadata": {},
   "outputs": [
    {
     "data": {
      "text/plain": [
       "['MEM',\n",
       " 'DEN',\n",
       " 'DAL',\n",
       " 'MIN',\n",
       " 'NOP',\n",
       " 'GSW',\n",
       " 'OKC',\n",
       " 'LAL',\n",
       " 'LAC',\n",
       " 'PHX',\n",
       " 'POR',\n",
       " 'SAC',\n",
       " 'SAS',\n",
       " 'UTA',\n",
       " 'HOU']"
      ]
     },
     "execution_count": 9,
     "metadata": {},
     "output_type": "execute_result"
    }
   ],
   "source": [
    "west_list"
   ]
  },
  {
   "cell_type": "code",
   "execution_count": null,
   "metadata": {},
   "outputs": [],
   "source": []
  }
 ],
 "metadata": {
  "kernelspec": {
   "display_name": "base",
   "language": "python",
   "name": "python3"
  },
  "language_info": {
   "codemirror_mode": {
    "name": "ipython",
    "version": 3
   },
   "file_extension": ".py",
   "mimetype": "text/x-python",
   "name": "python",
   "nbconvert_exporter": "python",
   "pygments_lexer": "ipython3",
   "version": "3.11.5"
  },
  "orig_nbformat": 4
 },
 "nbformat": 4,
 "nbformat_minor": 2
}
