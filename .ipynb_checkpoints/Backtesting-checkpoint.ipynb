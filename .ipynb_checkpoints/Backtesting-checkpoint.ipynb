{
 "cells": [
  {
   "cell_type": "code",
   "execution_count": 3,
   "id": "a6c14da4",
   "metadata": {},
   "outputs": [],
   "source": [
    "import torch\n",
    "import seaborn as sea\n",
    "import torch.nn.functional as F\n",
    "import torch.nn as nn\n",
    "import numpy as np\n",
    "import pandas as pd\n",
    "import time\n",
    "import random\n",
    "import datetime\n",
    "import re\n",
    "import matplotlib.pyplot as plt\n",
    "from scipy.stats import poisson\n",
    "%run functions.ipynb\n",
    "from unidecode import unidecode\n",
    "import lightgbm as lgb\n",
    "plt.rcParams['figure.figsize'] = [15, 8]\n",
    "pd.set_option(\"display.precision\", 3)"
   ]
  },
  {
   "cell_type": "code",
   "execution_count": 4,
   "id": "b6b874b7",
   "metadata": {},
   "outputs": [],
   "source": [
    "pd.set_option('display.max_rows', 10)\n",
    "pd.set_option('display.min_rows', 10)\n",
    "torch.set_printoptions(sci_mode=False)"
   ]
  },
  {
   "cell_type": "code",
   "execution_count": 5,
   "id": "e5a46296",
   "metadata": {},
   "outputs": [],
   "source": [
    "opp_stats = pd.read_csv('opponent_stats',index_col=0)\n",
    "schedule = pd.read_csv('schedule',index_col=0)\n",
    "data = pd.read_csv('data.csv')\n"
   ]
  },
  {
   "cell_type": "code",
   "execution_count": 6,
   "id": "7ac7620d",
   "metadata": {},
   "outputs": [],
   "source": [
    "data['Date'] = pd.to_datetime(data['Date'], format=\"%Y-%m-%d\")\n",
    "data['Rest'] = data.groupby('Player')['Date'].diff().dt.days\n",
    "data = data.fillna(5)"
   ]
  },
  {
   "cell_type": "code",
   "execution_count": 7,
   "id": "dcb1f904",
   "metadata": {},
   "outputs": [],
   "source": [
    "for i in range(1, 20):\n",
    "    file_name = f\"betting_lines_{i}\"\n",
    "    try:\n",
    "        # Use globals() to dynamically set the variable name\n",
    "        globals()[f\"Lines/lines{i}\"] = pd.read_csv(file_name, index_col=0)\n",
    "        x = pd.read_csv(file_name, index_col=0)\n",
    "        if i == 1:\n",
    "            full = lines1\n",
    "        else:\n",
    "            full = pd.concat((full,x))\n",
    "    except FileNotFoundError:\n",
    "        notfound = file_name\n",
    "        break\n",
    "        \n",
    "for m in range(3,5):\n",
    "    for i in range(1, 30):\n",
    "        file_name = f\"Lines/lines{m}_{i}\"\n",
    "        yest_file = f\"Lines/lines{m}_{i-1}\"\n",
    "        try:\n",
    "            # Use globals() to dynamically set the variable name\n",
    "            globals()[f\"lines{m}_{i}\"] = pd.read_csv(file_name, index_col=0)\n",
    "            pp_today = pd.read_csv(file_name, index_col=0)\n",
    "            pp_yesterday = pd.read_csv(yest_file, index_col=0)\n",
    "            x = pd.read_csv(file_name, index_col=0)\n",
    "            full = pd.concat((full,x))\n",
    "        except FileNotFoundError:\n",
    "            notfound = file_name\n",
    "           "
   ]
  },
  {
   "cell_type": "code",
   "execution_count": 8,
   "id": "d1fdea39",
   "metadata": {},
   "outputs": [
    {
     "data": {
      "text/plain": [
       "12027"
      ]
     },
     "execution_count": 8,
     "metadata": {},
     "output_type": "execute_result"
    }
   ],
   "source": [
    "full['Date'].unique()\n",
    "df = full.copy(deep=True)\n",
    "len(df)"
   ]
  },
  {
   "cell_type": "code",
   "execution_count": 9,
   "id": "9bc27d30",
   "metadata": {},
   "outputs": [],
   "source": [
    "df = df.replace('Fred VanVleet\\t','Fred VanVleet')\n",
    "df = df.replace('Nicolas Claxton','Nic Claxton')\n",
    "df = df.replace('Robert Williams III','Robert Williams')\n",
    "df = df.replace('LeBron James\\t','LeBron James')\n",
    "df= df.replace('KJ Martin Jr.','Kenyon Martin Jr.')\n",
    "df = df[df.Player != 'Xavier Tillman']\n",
    "df = df.reset_index(drop=True)"
   ]
  },
  {
   "cell_type": "code",
   "execution_count": 10,
   "id": "990b7ad5",
   "metadata": {},
   "outputs": [
    {
     "data": {
      "text/html": [
       "<div>\n",
       "<style scoped>\n",
       "    .dataframe tbody tr th:only-of-type {\n",
       "        vertical-align: middle;\n",
       "    }\n",
       "\n",
       "    .dataframe tbody tr th {\n",
       "        vertical-align: top;\n",
       "    }\n",
       "\n",
       "    .dataframe thead th {\n",
       "        text-align: right;\n",
       "    }\n",
       "</style>\n",
       "<table border=\"1\" class=\"dataframe\">\n",
       "  <thead>\n",
       "    <tr style=\"text-align: right;\">\n",
       "      <th></th>\n",
       "      <th>Player</th>\n",
       "      <th>G</th>\n",
       "      <th>Date</th>\n",
       "      <th>Age</th>\n",
       "      <th>Tm</th>\n",
       "      <th>H/A</th>\n",
       "      <th>Opp</th>\n",
       "      <th>W/L</th>\n",
       "      <th>GS</th>\n",
       "      <th>MP</th>\n",
       "      <th>...</th>\n",
       "      <th>STL</th>\n",
       "      <th>BLK</th>\n",
       "      <th>TOV</th>\n",
       "      <th>PF</th>\n",
       "      <th>PTS</th>\n",
       "      <th>GmSc</th>\n",
       "      <th>+/-</th>\n",
       "      <th>Pos</th>\n",
       "      <th>KM</th>\n",
       "      <th>Rest</th>\n",
       "    </tr>\n",
       "  </thead>\n",
       "  <tbody>\n",
       "    <tr>\n",
       "      <th>0</th>\n",
       "      <td>Jayson Tatum</td>\n",
       "      <td>1</td>\n",
       "      <td>2022-10-18</td>\n",
       "      <td>24-229</td>\n",
       "      <td>BOS</td>\n",
       "      <td>1</td>\n",
       "      <td>PHI</td>\n",
       "      <td>9</td>\n",
       "      <td>1</td>\n",
       "      <td>38.633</td>\n",
       "      <td>...</td>\n",
       "      <td>1</td>\n",
       "      <td>1</td>\n",
       "      <td>3</td>\n",
       "      <td>1</td>\n",
       "      <td>35</td>\n",
       "      <td>30.1</td>\n",
       "      <td>10.0</td>\n",
       "      <td>PF</td>\n",
       "      <td>7</td>\n",
       "      <td>5.0</td>\n",
       "    </tr>\n",
       "    <tr>\n",
       "      <th>1</th>\n",
       "      <td>Jayson Tatum</td>\n",
       "      <td>2</td>\n",
       "      <td>2022-10-21</td>\n",
       "      <td>24-232</td>\n",
       "      <td>BOS</td>\n",
       "      <td>0</td>\n",
       "      <td>MIA</td>\n",
       "      <td>7</td>\n",
       "      <td>1</td>\n",
       "      <td>36.783</td>\n",
       "      <td>...</td>\n",
       "      <td>1</td>\n",
       "      <td>2</td>\n",
       "      <td>2</td>\n",
       "      <td>1</td>\n",
       "      <td>29</td>\n",
       "      <td>22.7</td>\n",
       "      <td>-1.0</td>\n",
       "      <td>PF</td>\n",
       "      <td>7</td>\n",
       "      <td>3.0</td>\n",
       "    </tr>\n",
       "    <tr>\n",
       "      <th>2</th>\n",
       "      <td>Jayson Tatum</td>\n",
       "      <td>3</td>\n",
       "      <td>2022-10-22</td>\n",
       "      <td>24-233</td>\n",
       "      <td>BOS</td>\n",
       "      <td>0</td>\n",
       "      <td>ORL</td>\n",
       "      <td>6</td>\n",
       "      <td>1</td>\n",
       "      <td>37.650</td>\n",
       "      <td>...</td>\n",
       "      <td>1</td>\n",
       "      <td>2</td>\n",
       "      <td>1</td>\n",
       "      <td>2</td>\n",
       "      <td>40</td>\n",
       "      <td>34.2</td>\n",
       "      <td>6.0</td>\n",
       "      <td>PF</td>\n",
       "      <td>7</td>\n",
       "      <td>1.0</td>\n",
       "    </tr>\n",
       "    <tr>\n",
       "      <th>3</th>\n",
       "      <td>Jayson Tatum</td>\n",
       "      <td>4</td>\n",
       "      <td>2022-10-24</td>\n",
       "      <td>24-235</td>\n",
       "      <td>BOS</td>\n",
       "      <td>0</td>\n",
       "      <td>CHI</td>\n",
       "      <td>-18</td>\n",
       "      <td>1</td>\n",
       "      <td>35.433</td>\n",
       "      <td>...</td>\n",
       "      <td>0</td>\n",
       "      <td>0</td>\n",
       "      <td>1</td>\n",
       "      <td>2</td>\n",
       "      <td>26</td>\n",
       "      <td>20.7</td>\n",
       "      <td>-8.0</td>\n",
       "      <td>PF</td>\n",
       "      <td>7</td>\n",
       "      <td>2.0</td>\n",
       "    </tr>\n",
       "    <tr>\n",
       "      <th>4</th>\n",
       "      <td>Jayson Tatum</td>\n",
       "      <td>5</td>\n",
       "      <td>2022-10-28</td>\n",
       "      <td>24-239</td>\n",
       "      <td>BOS</td>\n",
       "      <td>1</td>\n",
       "      <td>CLE</td>\n",
       "      <td>-9</td>\n",
       "      <td>1</td>\n",
       "      <td>42.183</td>\n",
       "      <td>...</td>\n",
       "      <td>1</td>\n",
       "      <td>1</td>\n",
       "      <td>4</td>\n",
       "      <td>4</td>\n",
       "      <td>32</td>\n",
       "      <td>24.1</td>\n",
       "      <td>-10.0</td>\n",
       "      <td>PF</td>\n",
       "      <td>7</td>\n",
       "      <td>4.0</td>\n",
       "    </tr>\n",
       "    <tr>\n",
       "      <th>...</th>\n",
       "      <td>...</td>\n",
       "      <td>...</td>\n",
       "      <td>...</td>\n",
       "      <td>...</td>\n",
       "      <td>...</td>\n",
       "      <td>...</td>\n",
       "      <td>...</td>\n",
       "      <td>...</td>\n",
       "      <td>...</td>\n",
       "      <td>...</td>\n",
       "      <td>...</td>\n",
       "      <td>...</td>\n",
       "      <td>...</td>\n",
       "      <td>...</td>\n",
       "      <td>...</td>\n",
       "      <td>...</td>\n",
       "      <td>...</td>\n",
       "      <td>...</td>\n",
       "      <td>...</td>\n",
       "      <td>...</td>\n",
       "      <td>...</td>\n",
       "    </tr>\n",
       "    <tr>\n",
       "      <th>25141</th>\n",
       "      <td>Marko Simonovic</td>\n",
       "      <td>3</td>\n",
       "      <td>2023-02-16</td>\n",
       "      <td>23-124</td>\n",
       "      <td>CHI</td>\n",
       "      <td>1</td>\n",
       "      <td>MIL</td>\n",
       "      <td>-12</td>\n",
       "      <td>0</td>\n",
       "      <td>1.800</td>\n",
       "      <td>...</td>\n",
       "      <td>0</td>\n",
       "      <td>0</td>\n",
       "      <td>0</td>\n",
       "      <td>1</td>\n",
       "      <td>0</td>\n",
       "      <td>-0.4</td>\n",
       "      <td>8.0</td>\n",
       "      <td>C</td>\n",
       "      <td>12</td>\n",
       "      <td>28.0</td>\n",
       "    </tr>\n",
       "    <tr>\n",
       "      <th>25142</th>\n",
       "      <td>Marko Simonovic</td>\n",
       "      <td>4</td>\n",
       "      <td>2023-03-31</td>\n",
       "      <td>23-167</td>\n",
       "      <td>CHI</td>\n",
       "      <td>0</td>\n",
       "      <td>CHA</td>\n",
       "      <td>30</td>\n",
       "      <td>0</td>\n",
       "      <td>3.967</td>\n",
       "      <td>...</td>\n",
       "      <td>0</td>\n",
       "      <td>0</td>\n",
       "      <td>0</td>\n",
       "      <td>1</td>\n",
       "      <td>0</td>\n",
       "      <td>-0.4</td>\n",
       "      <td>-1.0</td>\n",
       "      <td>C</td>\n",
       "      <td>12</td>\n",
       "      <td>43.0</td>\n",
       "    </tr>\n",
       "    <tr>\n",
       "      <th>25143</th>\n",
       "      <td>Marko Simonovic</td>\n",
       "      <td>5</td>\n",
       "      <td>2023-04-04</td>\n",
       "      <td>23-171</td>\n",
       "      <td>CHI</td>\n",
       "      <td>1</td>\n",
       "      <td>ATL</td>\n",
       "      <td>-18</td>\n",
       "      <td>0</td>\n",
       "      <td>2.100</td>\n",
       "      <td>...</td>\n",
       "      <td>0</td>\n",
       "      <td>0</td>\n",
       "      <td>0</td>\n",
       "      <td>0</td>\n",
       "      <td>2</td>\n",
       "      <td>1.0</td>\n",
       "      <td>0.0</td>\n",
       "      <td>C</td>\n",
       "      <td>12</td>\n",
       "      <td>4.0</td>\n",
       "    </tr>\n",
       "    <tr>\n",
       "      <th>25144</th>\n",
       "      <td>Marko Simonovic</td>\n",
       "      <td>6</td>\n",
       "      <td>2023-04-05</td>\n",
       "      <td>23-172</td>\n",
       "      <td>CHI</td>\n",
       "      <td>0</td>\n",
       "      <td>MIL</td>\n",
       "      <td>-13</td>\n",
       "      <td>0</td>\n",
       "      <td>0.650</td>\n",
       "      <td>...</td>\n",
       "      <td>0</td>\n",
       "      <td>0</td>\n",
       "      <td>0</td>\n",
       "      <td>0</td>\n",
       "      <td>0</td>\n",
       "      <td>0.0</td>\n",
       "      <td>3.0</td>\n",
       "      <td>C</td>\n",
       "      <td>12</td>\n",
       "      <td>1.0</td>\n",
       "    </tr>\n",
       "    <tr>\n",
       "      <th>25145</th>\n",
       "      <td>Alondes Williams</td>\n",
       "      <td>1</td>\n",
       "      <td>2022-12-10</td>\n",
       "      <td>23-174</td>\n",
       "      <td>BKN</td>\n",
       "      <td>0</td>\n",
       "      <td>IND</td>\n",
       "      <td>3</td>\n",
       "      <td>0</td>\n",
       "      <td>5.267</td>\n",
       "      <td>...</td>\n",
       "      <td>0</td>\n",
       "      <td>0</td>\n",
       "      <td>2</td>\n",
       "      <td>1</td>\n",
       "      <td>0</td>\n",
       "      <td>-2.1</td>\n",
       "      <td>-5.0</td>\n",
       "      <td>SG</td>\n",
       "      <td>12</td>\n",
       "      <td>5.0</td>\n",
       "    </tr>\n",
       "  </tbody>\n",
       "</table>\n",
       "<p>25146 rows × 33 columns</p>\n",
       "</div>"
      ],
      "text/plain": [
       "                 Player  G       Date     Age   Tm  H/A  Opp  W/L  GS      MP  \\\n",
       "0          Jayson Tatum  1 2022-10-18  24-229  BOS    1  PHI    9   1  38.633   \n",
       "1          Jayson Tatum  2 2022-10-21  24-232  BOS    0  MIA    7   1  36.783   \n",
       "2          Jayson Tatum  3 2022-10-22  24-233  BOS    0  ORL    6   1  37.650   \n",
       "3          Jayson Tatum  4 2022-10-24  24-235  BOS    0  CHI  -18   1  35.433   \n",
       "4          Jayson Tatum  5 2022-10-28  24-239  BOS    1  CLE   -9   1  42.183   \n",
       "...                 ... ..        ...     ...  ...  ...  ...  ...  ..     ...   \n",
       "25141   Marko Simonovic  3 2023-02-16  23-124  CHI    1  MIL  -12   0   1.800   \n",
       "25142   Marko Simonovic  4 2023-03-31  23-167  CHI    0  CHA   30   0   3.967   \n",
       "25143   Marko Simonovic  5 2023-04-04  23-171  CHI    1  ATL  -18   0   2.100   \n",
       "25144   Marko Simonovic  6 2023-04-05  23-172  CHI    0  MIL  -13   0   0.650   \n",
       "25145  Alondes Williams  1 2022-12-10  23-174  BKN    0  IND    3   0   5.267   \n",
       "\n",
       "       ...  STL  BLK  TOV  PF  PTS  GmSc   +/-  Pos  KM  Rest  \n",
       "0      ...    1    1    3   1   35  30.1  10.0   PF   7   5.0  \n",
       "1      ...    1    2    2   1   29  22.7  -1.0   PF   7   3.0  \n",
       "2      ...    1    2    1   2   40  34.2   6.0   PF   7   1.0  \n",
       "3      ...    0    0    1   2   26  20.7  -8.0   PF   7   2.0  \n",
       "4      ...    1    1    4   4   32  24.1 -10.0   PF   7   4.0  \n",
       "...    ...  ...  ...  ...  ..  ...   ...   ...  ...  ..   ...  \n",
       "25141  ...    0    0    0   1    0  -0.4   8.0    C  12  28.0  \n",
       "25142  ...    0    0    0   1    0  -0.4  -1.0    C  12  43.0  \n",
       "25143  ...    0    0    0   0    2   1.0   0.0    C  12   4.0  \n",
       "25144  ...    0    0    0   0    0   0.0   3.0    C  12   1.0  \n",
       "25145  ...    0    0    2   1    0  -2.1  -5.0   SG  12   5.0  \n",
       "\n",
       "[25146 rows x 33 columns]"
      ]
     },
     "execution_count": 10,
     "metadata": {},
     "output_type": "execute_result"
    }
   ],
   "source": [
    "KM_vals = pd.read_csv('KM_vals.csv',index_col=0)\n",
    "KM_dict = dict(zip(KM_vals.Player,KM_vals.KM))\n",
    "temp = []\n",
    "for p in data.Player.values:\n",
    "    if p in KM_dict:\n",
    "        temp.append(KM_dict[p])\n",
    "    else:\n",
    "        temp.append(12)\n",
    "data['KM'] = temp\n",
    "data"
   ]
  },
  {
   "cell_type": "code",
   "execution_count": 11,
   "id": "016ff26c",
   "metadata": {},
   "outputs": [],
   "source": [
    "df = df.reset_index(drop=True)"
   ]
  },
  {
   "cell_type": "code",
   "execution_count": 12,
   "id": "e49cf5e9",
   "metadata": {
    "scrolled": true
   },
   "outputs": [
    {
     "data": {
      "text/plain": [
       "35.703333333333326"
      ]
     },
     "execution_count": 12,
     "metadata": {},
     "output_type": "execute_result"
    }
   ],
   "source": [
    "moving_avg('Jayson Tatum','MP')[-1]"
   ]
  },
  {
   "cell_type": "code",
   "execution_count": 13,
   "id": "607f996b",
   "metadata": {},
   "outputs": [],
   "source": [
    "def check(lines):\n",
    "    lines = lines.reset_index(drop=True)\n",
    "    val = []\n",
    "    everything = []\n",
    "    err = 0\n",
    "    days = lines['Date'].unique()\n",
    "    for d in range(len(days)):\n",
    "        print(days[d])\n",
    "        current = days[d]\n",
    "        avail = data.loc[data['Date']< current]\n",
    "        for i in range(len(lines)):\n",
    "\n",
    "            date = lines['Date'][i]\n",
    "            if date == current:\n",
    "                if i%20 == 0:\n",
    "                    print(i)\n",
    "                player = lines['Player'][i]\n",
    "\n",
    "                cat = lines['Stat'][i]\n",
    "                line = lines['Line'][i]\n",
    "                opp = lines['Team'][i]\n",
    "                game  = get_game(player,date)\n",
    "                expect = adjust(player,cat,opp,stats=avail)\n",
    "                expect_nokm = adjust_raw(player,cat,opp,stats=avail)\n",
    "                mins_avg = moving_avg(player,'MP',6,stats=avail)[-1]\n",
    "\n",
    "                if game.empty:\n",
    "                    print('err',player)\n",
    "                    err += 1\n",
    "                else:\n",
    "                    x = get_stat(player,cat,game)\n",
    "                    mins =  get_stat(player,'MP',game)[0]\n",
    "                    \n",
    "                    pred_diff = expect-line\n",
    "                    diff_real = x-line\n",
    "                    if np.sign(pred_diff) == np.sign(diff_real):\n",
    "                        val=1\n",
    "                    else:\n",
    "                        val=0\n",
    "                    season = float(print_prob(player,line,cat,stats=avail,prnt=False))\n",
    "                    l_10 = float(print_prob(player,line,cat,games=10,stats=avail,prnt=False))\n",
    "                    everything.append((player,opp,cat,expect,expect_nokm,line,x[0],l_10,season,mins_avg,mins))\n",
    "            \n",
    "    x = np.array(everything)\n",
    "    df = pd.DataFrame(x,columns=['Player','opp','Stat','pred','pred_nokm','line','actual','l_10','season','min_avg','min'])\n",
    "    numeric = ['pred','pred_nokm','line','actual','l_10','season','min_avg','min']\n",
    "    df[numeric]=df[numeric].astype(float)\n",
    "    df['Prob']= 1- poisson.cdf(mu=df['pred'],k=df['line'])\n",
    "    return df"
   ]
  },
  {
   "cell_type": "code",
   "execution_count": 14,
   "id": "5512089a",
   "metadata": {
    "scrolled": true
   },
   "outputs": [
    {
     "name": "stdout",
     "output_type": "stream",
     "text": [
      "2023-02-15\n",
      "0\n"
     ]
    },
    {
     "ename": "NameError",
     "evalue": "name 'adjust_raw' is not defined",
     "output_type": "error",
     "traceback": [
      "\u001b[1;31m---------------------------------------------------------------------------\u001b[0m",
      "\u001b[1;31mNameError\u001b[0m                                 Traceback (most recent call last)",
      "Input \u001b[1;32mIn [14]\u001b[0m, in \u001b[0;36m<cell line: 5>\u001b[1;34m()\u001b[0m\n\u001b[0;32m      3\u001b[0m ptdf \u001b[38;5;241m=\u001b[39m df\u001b[38;5;241m.\u001b[39mloc[df\u001b[38;5;241m.\u001b[39mStat\u001b[38;5;241m==\u001b[39m\u001b[38;5;124m'\u001b[39m\u001b[38;5;124mPTS\u001b[39m\u001b[38;5;124m'\u001b[39m]\n\u001b[0;32m      4\u001b[0m ptdf \u001b[38;5;241m=\u001b[39m ptdf\u001b[38;5;241m.\u001b[39mdropna()\u001b[38;5;241m.\u001b[39mreset_index(drop\u001b[38;5;241m=\u001b[39m\u001b[38;5;28;01mTrue\u001b[39;00m)\n\u001b[1;32m----> 5\u001b[0m test \u001b[38;5;241m=\u001b[39m \u001b[43mcheck\u001b[49m\u001b[43m(\u001b[49m\u001b[43mdf\u001b[49m\u001b[43m)\u001b[49m\n\u001b[0;32m      6\u001b[0m test\n",
      "Input \u001b[1;32mIn [13]\u001b[0m, in \u001b[0;36mcheck\u001b[1;34m(lines)\u001b[0m\n\u001b[0;32m     22\u001b[0m game  \u001b[38;5;241m=\u001b[39m get_game(player,date)\n\u001b[0;32m     23\u001b[0m expect \u001b[38;5;241m=\u001b[39m adjust(player,cat,opp,stats\u001b[38;5;241m=\u001b[39mavail)\n\u001b[1;32m---> 24\u001b[0m expect_nokm \u001b[38;5;241m=\u001b[39m \u001b[43madjust_raw\u001b[49m(player,cat,opp,stats\u001b[38;5;241m=\u001b[39mavail)\n\u001b[0;32m     25\u001b[0m mins_avg \u001b[38;5;241m=\u001b[39m moving_avg(player,\u001b[38;5;124m'\u001b[39m\u001b[38;5;124mMP\u001b[39m\u001b[38;5;124m'\u001b[39m,\u001b[38;5;241m6\u001b[39m,stats\u001b[38;5;241m=\u001b[39mavail)[\u001b[38;5;241m-\u001b[39m\u001b[38;5;241m1\u001b[39m]\n\u001b[0;32m     27\u001b[0m \u001b[38;5;28;01mif\u001b[39;00m game\u001b[38;5;241m.\u001b[39mempty:\n",
      "\u001b[1;31mNameError\u001b[0m: name 'adjust_raw' is not defined"
     ]
    }
   ],
   "source": [
    "df = df[['Player', 'Team', 'Line', 'Stat', 'id', 'Date']]\n",
    "df = df.dropna()\n",
    "ptdf = df.loc[df.Stat=='PTS']\n",
    "ptdf = ptdf.dropna().reset_index(drop=True)\n",
    "test = check(df)\n",
    "test\n",
    "\n"
   ]
  },
  {
   "cell_type": "code",
   "execution_count": null,
   "id": "6097b475",
   "metadata": {},
   "outputs": [],
   "source": [
    "test['km_diff'] = (test.pred-test.actual)\n",
    "test['nokm_diff'] = (test.pred_nokm-test.actual)\n",
    "test['ensemble'] = ((test.pred+test.pred_nokm)*0.5)-test.actual\n",
    "test['book_diff'] = (test.line-test.actual)\n",
    "\n",
    "test['km_err'] = test.km_diff**2\n",
    "test['nokm_err'] = test.nokm_diff**2\n",
    "test['book_err'] = test.book_diff**2\n",
    "\n",
    "win = []\n",
    "raw_win=[]\n",
    "for i in range(len(test)):\n",
    "    pred_diff = test.pred[i]-test.line[i]\n",
    "    prednokm_diff = test.pred_nokm[i]-test.line[i]\n",
    "    diff_real = test.actual[i]-test.line[i]\n",
    "    if np.sign(pred_diff) == np.sign(diff_real):\n",
    "        val=1\n",
    "    else:\n",
    "        val=0\n",
    "    if np.sign(pred_diff) == np.sign(diff_real):\n",
    "        val2=1\n",
    "    else:\n",
    "        val2=0\n",
    "    win.append(val)\n",
    "    raw_win.append(val2)\n",
    "test['Win'] = win\n",
    "test['raw_Win'] = win\n",
    "test.sort_values(by='km_err')"
   ]
  },
  {
   "cell_type": "code",
   "execution_count": null,
   "id": "0e124a59",
   "metadata": {},
   "outputs": [],
   "source": [
    "test.drop(['Stat','opp'],axis=1).sort_values(by='min_diff').tail(10)"
   ]
  },
  {
   "cell_type": "code",
   "execution_count": null,
   "id": "cc20bb8f",
   "metadata": {},
   "outputs": [],
   "source": [
    "test"
   ]
  },
  {
   "cell_type": "code",
   "execution_count": null,
   "id": "c014f9a9",
   "metadata": {},
   "outputs": [],
   "source": [
    "test['min_diff'] = test['min']-test['min_avg']\n",
    "samp = test.loc[test.min_diff > 5]\n",
    "print(len(samp))\n",
    "samp.mean()"
   ]
  },
  {
   "cell_type": "code",
   "execution_count": null,
   "id": "9e1b6d6c",
   "metadata": {},
   "outputs": [],
   "source": [
    "(test.pred_nokm-test.actual).sum()"
   ]
  },
  {
   "cell_type": "code",
   "execution_count": null,
   "id": "226c9d12",
   "metadata": {},
   "outputs": [],
   "source": [
    "(test.pred-test.actual).sum()"
   ]
  },
  {
   "cell_type": "code",
   "execution_count": null,
   "id": "ad49c008",
   "metadata": {},
   "outputs": [],
   "source": [
    "plt.scatter(test.Prob,(test.pred-test.actual),label='km')\n",
    "plt.scatter(test.Prob,(test.pred_nokm-test.actual))\n",
    "plt.legend()"
   ]
  },
  {
   "cell_type": "code",
   "execution_count": null,
   "id": "6d517b5d",
   "metadata": {},
   "outputs": [],
   "source": [
    "poiss_low = test.loc[test['Prob']< 0.3]\n",
    "#poiss_low = poiss_low.loc[poiss_low['season']<0.25]\n",
    "poiss_high = test.loc[test['Prob']> 0.7]\n",
    "#poiss_high = poiss_high.loc[poiss_high['season']>0.6]"
   ]
  },
  {
   "cell_type": "code",
   "execution_count": null,
   "id": "d8aeb5d6",
   "metadata": {},
   "outputs": [],
   "source": [
    "def results(final):\n",
    "    bets = len(final)\n",
    "    over_actual = len(final.loc[final['book_diff']>0])\n",
    "    print(over_actual,bets)\n",
    "    o_per = over_actual/bets\n",
    "    under_actual = len(final.loc[final['book_diff']<0])\n",
    "    u_per = under_actual/bets\n",
    "    over_pred = len(final.loc[final['km_diff']>0])\n",
    "    o_wins = final.loc[final['km_diff']>0]['Win'].sum()\n",
    "    \n",
    "    under_pred = len(final.loc[final['km_diff']<0])\n",
    "    u_wins = final.loc[final['km_diff']<0]['Win'].sum()\n",
    "    \n",
    "    print(f'actual over:{over_actual}/{len(final)}, {100*o_per:.0f}%')\n",
    "    print(f'actual under:{under_actual}/{len(final)}, {100*u_per:.0f}%')\n",
    "    print('predicted over results',o_wins,over_pred, f'{o_wins/over_pred:.0%}')\n",
    "    print('predicted under results:',u_wins,under_pred, f'{u_wins/under_pred:.0%}')\n",
    "    print('overall results:',f'{(o_wins+u_wins)/bets:.0%}')\n",
    "    return ((o_wins+u_wins)/bets)\n"
   ]
  },
  {
   "cell_type": "code",
   "execution_count": null,
   "id": "e9d2cec4",
   "metadata": {},
   "outputs": [],
   "source": [
    "results(poiss_low)"
   ]
  },
  {
   "cell_type": "code",
   "execution_count": null,
   "id": "e9cd5393",
   "metadata": {
    "scrolled": true
   },
   "outputs": [],
   "source": [
    "results(poiss_high)"
   ]
  },
  {
   "cell_type": "code",
   "execution_count": null,
   "id": "87622bce",
   "metadata": {
    "scrolled": true
   },
   "outputs": [],
   "source": [
    "conf = pd.concat((poiss_low,poiss_high))"
   ]
  },
  {
   "cell_type": "code",
   "execution_count": null,
   "id": "678cbe90",
   "metadata": {},
   "outputs": [],
   "source": [
    "results(conf)"
   ]
  },
  {
   "cell_type": "code",
   "execution_count": null,
   "id": "a2771d5b",
   "metadata": {},
   "outputs": [],
   "source": [
    "def dynamic(guy,cat,stats=None,series=None,alpha=None):\n",
    "    if stats is None:\n",
    "        stats = data\n",
    "    if series is None:\n",
    "        series = get_stat(guy,cat,stats)\n",
    "        series = np.array(series)\n",
    "    if alpha==None:\n",
    "        alpha = 0.2\n",
    "    \n",
    "    pred = [series[0]]\n",
    "    mov = [series[0]]\n",
    "    for i in range(1,3):\n",
    "            predict = series[0:i].mean()\n",
    "            pred.append(predict)\n",
    "            mov.append(predict)\n",
    "    for i in range(3,len(series)):\n",
    "        prev = mov[i-1]\n",
    "        current = series[i]*(alpha) + mov[i-1]*(1-(alpha))\n",
    "        mov.append(current)\n",
    "    return(mov)"
   ]
  },
  {
   "cell_type": "code",
   "execution_count": null,
   "id": "a6e7186a",
   "metadata": {},
   "outputs": [],
   "source": [
    "guy = 'Jayson Tatum'\n",
    "cat = 'PTS'\n",
    "\n",
    "pts = get_stat(guy,cat)\n",
    "\n",
    "dyn = dynamic(guy,cat,alpha=0.1)\n",
    "x = range(len(dyn))\n",
    "\n",
    "plt.plot(x,dyn,color='r')\n",
    "plt.scatter(x,pts)"
   ]
  },
  {
   "cell_type": "code",
   "execution_count": null,
   "id": "43109dfc",
   "metadata": {},
   "outputs": [],
   "source": [
    "jo = pd.DataFrame((pts,dyn)).T\n",
    "jo.columns=[['pts','dyn']]\n",
    "jo['pt_shift']=jo['pts'].shift(-1)\n",
    "jo = jo.dropna()\n",
    "jo['diff'] = abs(jo['dyn'].values-jo['pt_shift'].values)\n",
    "jo.mean()\n"
   ]
  },
  {
   "cell_type": "code",
   "execution_count": null,
   "id": "e418f9de",
   "metadata": {},
   "outputs": [],
   "source": [
    "plt.plot(jo['dyn'],color='r')\n",
    "plt.scatter(range(len(jo)),jo['pt_shift'])"
   ]
  },
  {
   "cell_type": "code",
   "execution_count": null,
   "id": "b250241b",
   "metadata": {},
   "outputs": [],
   "source": [
    "def find_dynamic(guy,cat):\n",
    "    series = get_stat(guy,cat)\n",
    "    series = np.array(series)\n",
    "    \n",
    "    idx = []\n",
    "    for alpha in range(1,20):\n",
    "        mov = dynamic(guy,cat,alpha=alpha/50)\n",
    "        result = (((mov[10:-1]-series[11:])**2).sum())\n",
    "        idx.append(result)\n",
    "    return idx"
   ]
  },
  {
   "cell_type": "code",
   "execution_count": null,
   "id": "d848bf7f",
   "metadata": {},
   "outputs": [],
   "source": [
    "p_idx = data.Player.unique()[0:20]"
   ]
  },
  {
   "cell_type": "code",
   "execution_count": null,
   "id": "c0ff509c",
   "metadata": {},
   "outputs": [],
   "source": [
    "for p in p_idx:\n",
    "    w = find_dynamic(p,'PTS')\n",
    "    plt.plot(vals,w)"
   ]
  },
  {
   "cell_type": "code",
   "execution_count": null,
   "id": "e8017cf4",
   "metadata": {},
   "outputs": [],
   "source": [
    "model = lgb.Booster(model_file='light')"
   ]
  },
  {
   "cell_type": "code",
   "execution_count": null,
   "id": "6485aba3",
   "metadata": {},
   "outputs": [],
   "source": [
    "model"
   ]
  },
  {
   "cell_type": "code",
   "execution_count": null,
   "id": "dbc167b2",
   "metadata": {},
   "outputs": [],
   "source": [
    "13/20"
   ]
  },
  {
   "cell_type": "code",
   "execution_count": null,
   "id": "b4acbefb",
   "metadata": {},
   "outputs": [],
   "source": [
    "vals = np.array(range(1,20))/20"
   ]
  },
  {
   "cell_type": "code",
   "execution_count": null,
   "id": "a99c1377",
   "metadata": {},
   "outputs": [],
   "source": []
  }
 ],
 "metadata": {
  "kernelspec": {
   "display_name": "Python 3 (ipykernel)",
   "language": "python",
   "name": "python3"
  },
  "language_info": {
   "codemirror_mode": {
    "name": "ipython",
    "version": 3
   },
   "file_extension": ".py",
   "mimetype": "text/x-python",
   "name": "python",
   "nbconvert_exporter": "python",
   "pygments_lexer": "ipython3",
   "version": "3.9.12"
  }
 },
 "nbformat": 4,
 "nbformat_minor": 5
}
