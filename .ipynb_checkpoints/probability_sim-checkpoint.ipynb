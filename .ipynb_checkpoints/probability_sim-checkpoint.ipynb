{
 "cells": [
  {
   "cell_type": "code",
   "execution_count": 10,
   "id": "b86c390d",
   "metadata": {},
   "outputs": [],
   "source": [
    "import random\n",
    "import numpy as np"
   ]
  },
  {
   "cell_type": "code",
   "execution_count": 9,
   "id": "3c671c6f",
   "metadata": {},
   "outputs": [
    {
     "data": {
      "text/plain": [
       "1"
      ]
     },
     "execution_count": 9,
     "metadata": {},
     "output_type": "execute_result"
    }
   ],
   "source": [
    "random.randint(0,1)"
   ]
  },
  {
   "cell_type": "code",
   "execution_count": 259,
   "id": "866e39b0",
   "metadata": {},
   "outputs": [],
   "source": [
    "def prob(size):\n",
    "    \n",
    "    result = []\n",
    "    for i in range(100000):\n",
    "        y = 0\n",
    "        for i in range(size):\n",
    "            x = random.randint(0,1)\n",
    "            y = y + x\n",
    "        result.append(y)\n",
    "    return result\n",
    "        \n",
    "        \n",
    "ans = prob(6)"
   ]
  },
  {
   "cell_type": "code",
   "execution_count": 260,
   "id": "33f7fb3f",
   "metadata": {},
   "outputs": [],
   "source": [
    "six = ans.count(6)\n",
    "five = ans.count(5)\n",
    "four = ans.count(4)\n",
    "three = ans.count(3)\n",
    "two = ans.count(2)"
   ]
  },
  {
   "cell_type": "code",
   "execution_count": 261,
   "id": "d8336356",
   "metadata": {},
   "outputs": [],
   "source": [
    "payout = six*33 + five * 2 + four*0.4"
   ]
  },
  {
   "cell_type": "code",
   "execution_count": 262,
   "id": "a9bbeb93",
   "metadata": {},
   "outputs": [
    {
     "data": {
      "text/plain": [
       "80544.0"
      ]
     },
     "execution_count": 262,
     "metadata": {},
     "output_type": "execute_result"
    }
   ],
   "source": [
    "payout"
   ]
  },
  {
   "cell_type": "markdown",
   "id": "e9c0eb32",
   "metadata": {},
   "source": [
    "10$ bet\n",
    "\n",
    "6man flex 6.70\n",
    "5man flex 7.50\n",
    "four flex 6.80\n",
    "four power 6.30\n",
    "three flex 7.50\n",
    "three power 6.20\n",
    "two power 7.50"
   ]
  },
  {
   "cell_type": "code",
   "execution_count": null,
   "id": "5a846690",
   "metadata": {},
   "outputs": [],
   "source": []
  }
 ],
 "metadata": {
  "kernelspec": {
   "display_name": "Python 3 (ipykernel)",
   "language": "python",
   "name": "python3"
  },
  "language_info": {
   "codemirror_mode": {
    "name": "ipython",
    "version": 3
   },
   "file_extension": ".py",
   "mimetype": "text/x-python",
   "name": "python",
   "nbconvert_exporter": "python",
   "pygments_lexer": "ipython3",
   "version": "3.9.12"
  }
 },
 "nbformat": 4,
 "nbformat_minor": 5
}
