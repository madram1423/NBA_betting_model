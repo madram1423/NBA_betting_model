{
 "cells": [
  {
   "cell_type": "code",
   "execution_count": 7,
   "id": "6d114eb4",
   "metadata": {},
   "outputs": [],
   "source": [
    "import requests\n",
    "from bs4 import BeautifulSoup as bs\n",
    "import pandas as pd\n",
    "import numpy as np\n",
    "import time\n",
    "import random\n",
    "from urllib.request import urlopen\n",
    "from bs4 import BeautifulSoup\n",
    "import requests"
   ]
  },
  {
   "cell_type": "code",
   "execution_count": 8,
   "id": "bea7c776",
   "metadata": {},
   "outputs": [],
   "source": [
    "url = 'https://www.basketball-reference.com/leagues/NBA_2023_games-february.html'"
   ]
  },
  {
   "cell_type": "code",
   "execution_count": 9,
   "id": "a6d027b6",
   "metadata": {},
   "outputs": [],
   "source": [
    "def GET_UA():\n",
    "    uastrings = [\"Mozilla/5.0 (Windows NT 6.1; WOW64) AppleWebKit/537.36 (KHTML, like Gecko) Chrome/38.0.2125.111 Safari/537.36\",\\\n",
    "                \"Mozilla/5.0 (Windows NT 6.1; WOW64) AppleWebKit/537.36 (KHTML, like Gecko) Chrome/28.0.1500.72 Safari/537.36\",\\\n",
    "                \"Mozilla/5.0 (Macintosh; Intel Mac OS X 10_10) AppleWebKit/600.1.25 (KHTML, like Gecko) Version/8.0 Safari/600.1.25\",\\\n",
    "                \"Mozilla/5.0 (Windows NT 6.1; WOW64; rv:33.0) Gecko/20100101 Firefox/33.0\",\\\n",
    "                \"Mozilla/5.0 (Windows NT 6.3; WOW64) AppleWebKit/537.36 (KHTML, like Gecko) Chrome/38.0.2125.111 Safari/537.36\",\\\n",
    "                \"Mozilla/5.0 (Macintosh; Intel Mac OS X 10_10_0) AppleWebKit/537.36 (KHTML, like Gecko) Chrome/38.0.2125.111 Safari/537.36\",\\\n",
    "                \"Mozilla/5.0 (Macintosh; Intel Mac OS X 10_9_5) AppleWebKit/600.1.17 (KHTML, like Gecko) Version/7.1 Safari/537.85.10\",\\\n",
    "                \"Mozilla/5.0 (Windows NT 6.1; WOW64; Trident/7.0; rv:11.0) like Gecko\",\\\n",
    "                \"Mozilla/5.0 (Windows NT 6.3; WOW64; rv:33.0) Gecko/20100101 Firefox/33.0\",\\\n",
    "                \"Mozilla/5.0 (Windows NT 6.1; WOW64) AppleWebKit/537.36 (KHTML, like Gecko) Chrome/38.0.2125.104 Safari/537.36\"\\\n",
    "                ]\n",
    " \n",
    "    return random.choice(uastrings)"
   ]
  },
  {
   "cell_type": "code",
   "execution_count": 10,
   "id": "7d789944",
   "metadata": {},
   "outputs": [],
   "source": [
    "def parse_url(url):\n",
    " \n",
    "    headers = {'User-Agent': GET_UA()}\n",
    "    content = None\n",
    " \n",
    "    try:\n",
    "        response = requests.get(url, headers=headers)\n",
    "        ct = response.headers['Content-Type'].lower().strip()\n",
    " \n",
    "        if 'text/html' in ct:\n",
    "            content = response.content\n",
    "            soup = BeautifulSoup(content)\n",
    "        else:\n",
    "            content = response.content\n",
    "            soup = None\n",
    " \n",
    "    except Exception as e:\n",
    "        print('Error:', str(e))\n",
    " \n",
    "    return content, soup, ct"
   ]
  },
  {
   "cell_type": "code",
   "execution_count": 11,
   "id": "7edfd3b6",
   "metadata": {},
   "outputs": [],
   "source": [
    "content, soup, ct = parse_url(url)"
   ]
  },
  {
   "cell_type": "code",
   "execution_count": 19,
   "id": "cb9c78b8",
   "metadata": {},
   "outputs": [
    {
     "name": "stdout",
     "output_type": "stream",
     "text": [
      "['Date', 'Start (ET)', 'Visitor/Neutral', 'PTS', 'Home/Neutral', 'PTS', '\\xa0', '\\xa0', 'Attend.', 'Arena', 'Notes']\n"
     ]
    }
   ],
   "source": [
    "# use findALL() to get the column headers\n",
    "soup.findAll('tr', limit=40)\n",
    "# use getText()to extract the text we need into a list\n",
    "i = 0\n",
    "while i < 40:\n",
    "    headers = [th.getText() for th in soup.findAll('tr', limit=40)[i].findAll('th')]\n",
    "    i = i +1\n",
    "    if headers:\n",
    "        print(headers)\n",
    "        idx = i\n",
    "        i = 45"
   ]
  },
  {
   "cell_type": "code",
   "execution_count": 20,
   "id": "c7a09e07",
   "metadata": {},
   "outputs": [
    {
     "data": {
      "text/plain": [
       "['Date',\n",
       " 'Start (ET)',\n",
       " 'Visitor/Neutral',\n",
       " 'PTS',\n",
       " 'Home/Neutral',\n",
       " 'PTS',\n",
       " '\\xa0',\n",
       " '\\xa0',\n",
       " 'Attend.',\n",
       " 'Arena',\n",
       " 'Notes']"
      ]
     },
     "execution_count": 20,
     "metadata": {},
     "output_type": "execute_result"
    }
   ],
   "source": [
    "headers"
   ]
  },
  {
   "cell_type": "code",
   "execution_count": 47,
   "id": "2e58310f",
   "metadata": {},
   "outputs": [],
   "source": [
    "rows = soup.findAll('tr')\n",
    "team_stats = [[td.getText() for td in rows[i].findAll('td')]\n",
    "            for i in range(len(rows)-32)]\n",
    "#stats = pd.DataFrame(player_stats, columns = headers)"
   ]
  },
  {
   "cell_type": "code",
   "execution_count": 46,
   "id": "bf1724cd",
   "metadata": {},
   "outputs": [
    {
     "data": {
      "text/plain": [
       "['9:00p',\n",
       " 'Atlanta Hawks',\n",
       " '108',\n",
       " 'Denver Nuggets',\n",
       " '128',\n",
       " 'Box Score',\n",
       " '',\n",
       " '19,630',\n",
       " 'Ball Arena',\n",
       " '']"
      ]
     },
     "execution_count": 46,
     "metadata": {},
     "output_type": "execute_result"
    }
   ],
   "source": [
    "team_stats[0]"
   ]
  },
  {
   "cell_type": "code",
   "execution_count": 39,
   "id": "a0c0f9e8",
   "metadata": {},
   "outputs": [
    {
     "ename": "AttributeError",
     "evalue": "ResultSet object has no attribute 'getText'. You're probably treating a list of elements like a single element. Did you call find_all() when you meant to call find()?",
     "output_type": "error",
     "traceback": [
      "\u001b[1;31m---------------------------------------------------------------------------\u001b[0m",
      "\u001b[1;31mAttributeError\u001b[0m                            Traceback (most recent call last)",
      "Input \u001b[1;32mIn [39]\u001b[0m, in \u001b[0;36m<cell line: 1>\u001b[1;34m()\u001b[0m\n\u001b[1;32m----> 1\u001b[0m \u001b[43mrows\u001b[49m\u001b[43m[\u001b[49m\u001b[38;5;241;43m2\u001b[39;49m\u001b[43m]\u001b[49m\u001b[38;5;241;43m.\u001b[39;49m\u001b[43mfindAll\u001b[49m\u001b[43m(\u001b[49m\u001b[38;5;124;43m'\u001b[39;49m\u001b[38;5;124;43mtd\u001b[39;49m\u001b[38;5;124;43m'\u001b[39;49m\u001b[43m)\u001b[49m\u001b[38;5;241;43m.\u001b[39;49m\u001b[43mgetText\u001b[49m()\n",
      "File \u001b[1;32m~\\anaconda3\\lib\\site-packages\\bs4\\element.py:2289\u001b[0m, in \u001b[0;36mResultSet.__getattr__\u001b[1;34m(self, key)\u001b[0m\n\u001b[0;32m   2287\u001b[0m \u001b[38;5;28;01mdef\u001b[39;00m \u001b[38;5;21m__getattr__\u001b[39m(\u001b[38;5;28mself\u001b[39m, key):\n\u001b[0;32m   2288\u001b[0m     \u001b[38;5;124;03m\"\"\"Raise a helpful exception to explain a common code fix.\"\"\"\u001b[39;00m\n\u001b[1;32m-> 2289\u001b[0m     \u001b[38;5;28;01mraise\u001b[39;00m \u001b[38;5;167;01mAttributeError\u001b[39;00m(\n\u001b[0;32m   2290\u001b[0m         \u001b[38;5;124m\"\u001b[39m\u001b[38;5;124mResultSet object has no attribute \u001b[39m\u001b[38;5;124m'\u001b[39m\u001b[38;5;132;01m%s\u001b[39;00m\u001b[38;5;124m'\u001b[39m\u001b[38;5;124m. You\u001b[39m\u001b[38;5;124m'\u001b[39m\u001b[38;5;124mre probably treating a list of elements like a single element. Did you call find_all() when you meant to call find()?\u001b[39m\u001b[38;5;124m\"\u001b[39m \u001b[38;5;241m%\u001b[39m key\n\u001b[0;32m   2291\u001b[0m     )\n",
      "\u001b[1;31mAttributeError\u001b[0m: ResultSet object has no attribute 'getText'. You're probably treating a list of elements like a single element. Did you call find_all() when you meant to call find()?"
     ]
    }
   ],
   "source": [
    "rows[2].findAll('td').getText()"
   ]
  },
  {
   "cell_type": "code",
   "execution_count": null,
   "id": "0347e8a5",
   "metadata": {},
   "outputs": [],
   "source": []
  }
 ],
 "metadata": {
  "kernelspec": {
   "display_name": "Python 3 (ipykernel)",
   "language": "python",
   "name": "python3"
  },
  "language_info": {
   "codemirror_mode": {
    "name": "ipython",
    "version": 3
   },
   "file_extension": ".py",
   "mimetype": "text/x-python",
   "name": "python",
   "nbconvert_exporter": "python",
   "pygments_lexer": "ipython3",
   "version": "3.9.12"
  }
 },
 "nbformat": 4,
 "nbformat_minor": 5
}
