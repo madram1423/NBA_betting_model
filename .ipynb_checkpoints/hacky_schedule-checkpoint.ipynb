{
 "cells": [
  {
   "cell_type": "code",
   "execution_count": 2,
   "id": "49b3bedf",
   "metadata": {},
   "outputs": [
    {
     "name": "stdout",
     "output_type": "stream",
     "text": [
      "error\n"
     ]
    }
   ],
   "source": [
    "def scheduled():\n",
    "    try:\n",
    "        %run Unabated_scrape.ipynb\n",
    "    except:\n",
    "        print('error')"
   ]
  },
  {
   "cell_type": "code",
   "execution_count": null,
   "id": "767176b0",
   "metadata": {},
   "outputs": [],
   "source": [
    "import time\n",
    "time.sleep(1.5*60*60)\n",
    "scheduled()"
   ]
  },
  {
   "cell_type": "code",
   "execution_count": null,
   "id": "8141219e",
   "metadata": {},
   "outputs": [],
   "source": [
    "time.sleep(.25*60*60)\n",
    "scheduled()"
   ]
  },
  {
   "cell_type": "code",
   "execution_count": null,
   "id": "124f4ffc",
   "metadata": {},
   "outputs": [],
   "source": [
    "time.sleep(2.5*60*60)\n",
    "scheduled()"
   ]
  },
  {
   "cell_type": "code",
   "execution_count": null,
   "id": "cd08c13a",
   "metadata": {},
   "outputs": [],
   "source": [
    "time.sleep(2.5*60*60)\n",
    "scheduled()"
   ]
  },
  {
   "cell_type": "code",
   "execution_count": null,
   "id": "834d864a",
   "metadata": {},
   "outputs": [],
   "source": []
  }
 ],
 "metadata": {
  "kernelspec": {
   "display_name": "Python 3 (ipykernel)",
   "language": "python",
   "name": "python3"
  },
  "language_info": {
   "codemirror_mode": {
    "name": "ipython",
    "version": 3
   },
   "file_extension": ".py",
   "mimetype": "text/x-python",
   "name": "python",
   "nbconvert_exporter": "python",
   "pygments_lexer": "ipython3",
   "version": "3.9.12"
  }
 },
 "nbformat": 4,
 "nbformat_minor": 5
}
